{
  "nbformat": 4,
  "nbformat_minor": 0,
  "metadata": {
    "accelerator": "GPU",
    "colab": {
      "name": "합성곱 신경망",
      "provenance": [],
      "authorship_tag": "ABX9TyPVbFRWYOnZ5sGMWtnaM+yo",
      "include_colab_link": true
    },
    "kernelspec": {
      "display_name": "Python 3",
      "name": "python3"
    },
    "language_info": {
      "name": "python"
    }
  },
  "cells": [
    {
      "cell_type": "markdown",
      "metadata": {
        "id": "view-in-github",
        "colab_type": "text"
      },
      "source": [
        "<a href=\"https://colab.research.google.com/github/ChoiDae1/Machine-DeepLearing_Study/blob/main/%ED%95%A9%EC%84%B1%EA%B3%B1_%EC%8B%A0%EA%B2%BD%EB%A7%9D.ipynb\" target=\"_parent\"><img src=\"https://colab.research.google.com/assets/colab-badge.svg\" alt=\"Open In Colab\"/></a>"
      ]
    },
    {
      "cell_type": "code",
      "metadata": {
        "colab": {
          "base_uri": "https://localhost:8080/"
        },
        "id": "YAo2vp341kZH",
        "outputId": "61f436af-7e99-4c50-89d1-6df182396793"
      },
      "source": [
        "from tensorflow import keras\n",
        "from sklearn.model_selection import train_test_split\n",
        "(train_input, train_target),(test_input, test_target) = keras.datasets.fashion_mnist.load_data()\n",
        "train_scaled = train_input.reshape(-1, 28,28,1)/255.0\n",
        "train_scaled, val_scaled, train_target, val_target = train_test_split(train_scaled, train_target, test_size=0.2, random_state=42)\n"
      ],
      "execution_count": 1,
      "outputs": [
        {
          "output_type": "stream",
          "name": "stdout",
          "text": [
            "Downloading data from https://storage.googleapis.com/tensorflow/tf-keras-datasets/train-labels-idx1-ubyte.gz\n",
            "32768/29515 [=================================] - 0s 0us/step\n",
            "40960/29515 [=========================================] - 0s 0us/step\n",
            "Downloading data from https://storage.googleapis.com/tensorflow/tf-keras-datasets/train-images-idx3-ubyte.gz\n",
            "26427392/26421880 [==============================] - 0s 0us/step\n",
            "26435584/26421880 [==============================] - 0s 0us/step\n",
            "Downloading data from https://storage.googleapis.com/tensorflow/tf-keras-datasets/t10k-labels-idx1-ubyte.gz\n",
            "16384/5148 [===============================================================================================] - 0s 0us/step\n",
            "Downloading data from https://storage.googleapis.com/tensorflow/tf-keras-datasets/t10k-images-idx3-ubyte.gz\n",
            "4423680/4422102 [==============================] - 0s 0us/step\n",
            "4431872/4422102 [==============================] - 0s 0us/step\n"
          ]
        }
      ]
    },
    {
      "cell_type": "code",
      "metadata": {
        "colab": {
          "base_uri": "https://localhost:8080/"
        },
        "id": "MMNwKi08TnuQ",
        "outputId": "9f9aaacd-abcb-4a4e-8522-c9da3f17c2a3"
      },
      "source": [
        "model = keras.Sequential()\n",
        "model.add(keras.layers.Conv2D(32, kernel_size=3, activation='relu', padding='same', input_shape=(28,28,1)))\n",
        "model.add(keras.layers.MaxPooling2D(2))\n",
        "model.add(keras.layers.Conv2D(64, kernel_size=3, activation='relu', padding='same', input_shape=(28,28,1)))\n",
        "model.add(keras.layers.MaxPooling2D(2))\n",
        "model.add(keras.layers.Flatten())\n",
        "model.add(keras.layers.Dense(100, activation='relu'))\n",
        "model.add(keras.layers.Dropout(0.4))\n",
        "model.add(keras.layers.Dense(10, activation='softmax'))\n",
        "model.summary()"
      ],
      "execution_count": 2,
      "outputs": [
        {
          "output_type": "stream",
          "name": "stdout",
          "text": [
            "Model: \"sequential\"\n",
            "_________________________________________________________________\n",
            " Layer (type)                Output Shape              Param #   \n",
            "=================================================================\n",
            " conv2d (Conv2D)             (None, 28, 28, 32)        320       \n",
            "                                                                 \n",
            " max_pooling2d (MaxPooling2D  (None, 14, 14, 32)       0         \n",
            " )                                                               \n",
            "                                                                 \n",
            " conv2d_1 (Conv2D)           (None, 14, 14, 64)        18496     \n",
            "                                                                 \n",
            " max_pooling2d_1 (MaxPooling  (None, 7, 7, 64)         0         \n",
            " 2D)                                                             \n",
            "                                                                 \n",
            " flatten (Flatten)           (None, 3136)              0         \n",
            "                                                                 \n",
            " dense (Dense)               (None, 100)               313700    \n",
            "                                                                 \n",
            " dropout (Dropout)           (None, 100)               0         \n",
            "                                                                 \n",
            " dense_1 (Dense)             (None, 10)                1010      \n",
            "                                                                 \n",
            "=================================================================\n",
            "Total params: 333,526\n",
            "Trainable params: 333,526\n",
            "Non-trainable params: 0\n",
            "_________________________________________________________________\n"
          ]
        }
      ]
    },
    {
      "cell_type": "code",
      "metadata": {
        "colab": {
          "base_uri": "https://localhost:8080/"
        },
        "id": "XWMVRpFUToDv",
        "outputId": "413ee4d8-e32e-47b1-a094-fe753cb87280"
      },
      "source": [
        "model.compile(optimizer='adam', loss='sparse_categorical_crossentropy', metrics='accuracy')\n",
        "checkpoint_cb = keras.callbacks.ModelCheckpoint('best-cnn-model.h5')\n",
        "early_stopping_cb = keras.callbacks.EarlyStopping(patience=2, restore_best_weights=True)\n",
        "history = model.fit(train_scaled, train_target, epochs=20, validation_data=(val_scaled,val_target), callbacks=[checkpoint_cb, early_stopping_cb])"
      ],
      "execution_count": 3,
      "outputs": [
        {
          "output_type": "stream",
          "name": "stdout",
          "text": [
            "Epoch 1/20\n",
            "1500/1500 [==============================] - 24s 7ms/step - loss: 0.5227 - accuracy: 0.8139 - val_loss: 0.3140 - val_accuracy: 0.8847\n",
            "Epoch 2/20\n",
            "1500/1500 [==============================] - 10s 7ms/step - loss: 0.3468 - accuracy: 0.8770 - val_loss: 0.2695 - val_accuracy: 0.8980\n",
            "Epoch 3/20\n",
            "1500/1500 [==============================] - 10s 7ms/step - loss: 0.2947 - accuracy: 0.8926 - val_loss: 0.2602 - val_accuracy: 0.9025\n",
            "Epoch 4/20\n",
            "1500/1500 [==============================] - 10s 7ms/step - loss: 0.2646 - accuracy: 0.9054 - val_loss: 0.2312 - val_accuracy: 0.9153\n",
            "Epoch 5/20\n",
            "1500/1500 [==============================] - 10s 7ms/step - loss: 0.2403 - accuracy: 0.9117 - val_loss: 0.2260 - val_accuracy: 0.9157\n",
            "Epoch 6/20\n",
            "1500/1500 [==============================] - 10s 7ms/step - loss: 0.2214 - accuracy: 0.9189 - val_loss: 0.2206 - val_accuracy: 0.9178\n",
            "Epoch 7/20\n",
            "1500/1500 [==============================] - 10s 7ms/step - loss: 0.2038 - accuracy: 0.9244 - val_loss: 0.2217 - val_accuracy: 0.9187\n",
            "Epoch 8/20\n",
            "1500/1500 [==============================] - 10s 7ms/step - loss: 0.1894 - accuracy: 0.9293 - val_loss: 0.2139 - val_accuracy: 0.9237\n",
            "Epoch 9/20\n",
            "1500/1500 [==============================] - 10s 7ms/step - loss: 0.1772 - accuracy: 0.9336 - val_loss: 0.2221 - val_accuracy: 0.9227\n",
            "Epoch 10/20\n",
            "1500/1500 [==============================] - 10s 7ms/step - loss: 0.1646 - accuracy: 0.9377 - val_loss: 0.2209 - val_accuracy: 0.9218\n"
          ]
        }
      ]
    },
    {
      "cell_type": "code",
      "metadata": {
        "colab": {
          "base_uri": "https://localhost:8080/",
          "height": 315
        },
        "id": "5AQqqhJbT6Wp",
        "outputId": "467e6aeb-32e8-4fee-f053-73990d5cb1ce"
      },
      "source": [
        "import matplotlib.pyplot as plt\n",
        "plt.plot(history.history['loss'])\n",
        "plt.plot(history.history['val_loss'])\n",
        "plt.xlabel('epoch')\n",
        "plt.ylabel('loss')\n",
        "plt.legend(['train','val'])\n",
        "plt.show()\n",
        "\n",
        "model.evaluate(val_scaled,val_target)"
      ],
      "execution_count": 4,
      "outputs": [
        {
          "output_type": "display_data",
          "data": {
            "image/png": "[encoded data removed]",
            "text/plain": [
              "<Figure size 432x288 with 1 Axes>"
            ]
          },
          "metadata": {
            "needs_background": "light"
          }
        },
        {
          "output_type": "stream",
          "name": "stdout",
          "text": [
            "375/375 [==============================] - 1s 3ms/step - loss: 0.2139 - accuracy: 0.9237\n"
          ]
        },
        {
          "output_type": "execute_result",
          "data": {
            "text/plain": [
              "[0.21393831074237823, 0.9236666560173035]"
            ]
          },
          "metadata": {},
          "execution_count": 4
        }
      ]
    },
    {
      "cell_type": "code",
      "metadata": {
        "colab": {
          "base_uri": "https://localhost:8080/",
          "height": 302
        },
        "id": "wsD3jYMPUF4r",
        "outputId": "d7456f4c-43f5-4423-b133-a5e5c5e874f5"
      },
      "source": [
        "plt.imshow(val_scaled[0].reshape(28,28),cmap='gray_r')\n",
        "plt.show()\n",
        "preds = model.predict(val_scaled[0:1])\n",
        "print(preds)"
      ],
      "execution_count": 5,
      "outputs": [
        {
          "output_type": "display_data",
          "data": {
            "image/png": "[encoded data removed]",
            "text/plain": [
              "<Figure size 432x288 with 1 Axes>"
            ]
          },
          "metadata": {
            "needs_background": "light"
          }
        },
        {
          "output_type": "stream",
          "name": "stdout",
          "text": [
            "[[1.2390158e-15 1.9804320e-23 9.8744266e-21 1.6740653e-15 1.9282617e-17\n",
            "  3.9202848e-13 1.3039176e-15 1.1788089e-16 1.0000000e+00 5.1966838e-17]]\n"
          ]
        }
      ]
    },
    {
      "cell_type": "code",
      "metadata": {
        "colab": {
          "base_uri": "https://localhost:8080/",
          "height": 279
        },
        "id": "n3InIS51U2bc",
        "outputId": "f6a1ce10-8685-4727-c1b4-fe63f55cd2b6"
      },
      "source": [
        "plt.bar(range(1,11), preds[0])\n",
        "plt.xlabel('class')\n",
        "plt.ylabel('prob.')\n",
        "plt.show()\n",
        "classes = ['티셔츠','바지','스웨터','드레스','코트','샌달','셔츠','스니커즈','가방','앵클 부츠']"
      ],
      "execution_count": 6,
      "outputs": [
        {
          "output_type": "display_data",
          "data": {
            "image/png": "[encoded data removed]",
            "text/plain": [
              "<Figure size 432x288 with 1 Axes>"
            ]
          },
          "metadata": {
            "needs_background": "light"
          }
        }
      ]
    },
    {
      "cell_type": "code",
      "metadata": {
        "colab": {
          "base_uri": "https://localhost:8080/"
        },
        "id": "BqrcMGUCU7kB",
        "outputId": "0c5b0146-7ef3-4124-b32d-5da436ff9280"
      },
      "source": [
        "import numpy as np\n",
        "print(classes[np.argmax(preds)])\n",
        "test_scaled =  test_input.reshape(-1,28,28,1)/255.0\n",
        "model.evaluate(test_scaled, test_target)"
      ],
      "execution_count": 7,
      "outputs": [
        {
          "output_type": "stream",
          "name": "stdout",
          "text": [
            "가방\n",
            "313/313 [==============================] - 2s 5ms/step - loss: 0.2395 - accuracy: 0.9149\n"
          ]
        },
        {
          "output_type": "execute_result",
          "data": {
            "text/plain": [
              "[0.2395053654909134, 0.914900004863739]"
            ]
          },
          "metadata": {},
          "execution_count": 7
        }
      ]
    }
  ]
}
 
