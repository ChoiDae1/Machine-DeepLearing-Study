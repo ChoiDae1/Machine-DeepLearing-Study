{
  "nbformat": 4,
  "nbformat_minor": 0,
  "metadata": {
    "colab": {
      "name": "교차검증",
      "provenance": [],
      "authorship_tag": "ABX9TyNOVsVfkxWaw6kTfmR+R+Jb",
      "include_colab_link": true
    },
    "kernelspec": {
      "display_name": "Python 3",
      "name": "python3"
    }
  },
  "cells": [
    {
      "cell_type": "markdown",
      "metadata": {
        "id": "view-in-github",
        "colab_type": "text"
      },
      "source": [
        "<a href=\"https://colab.research.google.com/github/ChoiDae1/Machine-DeepLearing_Study/blob/main/%EA%B5%90%EC%B0%A8%EA%B2%80%EC%A6%9D.ipynb\" target=\"_parent\"><img src=\"https://colab.research.google.com/assets/colab-badge.svg\" alt=\"Open In Colab\"/></a>"
      ]
    },
    {
      "cell_type": "code",
      "metadata": {
        "colab": {
          "base_uri": "https://localhost:8080/"
        },
        "id": "Hjqx0N7WsYOp",
        "outputId": "00f23666-06a3-40a0-ead9-1f4ed36795ec"
      },
      "source": [
        "import pandas as pd\n",
        "wine= pd.read_csv('https://bit.ly/wine-date')\n",
        "wine_input = wine[['alcohol', 'sugar', 'pH' ]].to_numpy()\n",
        "wine_target = wine['class'].to_numpy()\n",
        "\n",
        "from sklearn.model_selection import train_test_split\n",
        "train_input,test_input,train_target,test_target = train_test_split(wine_input,wine_target,random_state=42,test_size = 0.2)\n",
        "sub_input,val_input,sub_target,val_target = train_test_split(train_input,train_target,random_state=42,test_size=0.2)\n",
        "print(sub_input.shape,sub_target.shape)\n",
        "\n",
        "from sklearn.tree import DecisionTreeClassifier\n",
        "dt = DecisionTreeClassifier(random_state=42)\n",
        "dt.fit(sub_input,sub_target)\n",
        "print(dt.score(sub_input, sub_target))\n",
        "print(dt.score(val_input,val_target))\n"
      ],
      "execution_count": 1,
      "outputs": [
        {
          "output_type": "stream",
          "name": "stdout",
          "text": [
            "(4157, 3) (4157,)\n",
            "0.9971133028626413\n",
            "0.864423076923077\n"
          ]
        }
      ]
    },
    {
      "cell_type": "code",
      "metadata": {
        "colab": {
          "base_uri": "https://localhost:8080/"
        },
        "id": "fH25KGtJiZe2",
        "outputId": "9e8683a5-959a-4963-aaa8-a28adfc9b901"
      },
      "source": [
        "from sklearn.model_selection import cross_validate\n",
        "score=cross_validate(dt, train_input,train_target)\n",
        "print(score)\n",
        "import numpy as np\n",
        "print(np.mean(score['test_score']))"
      ],
      "execution_count": 2,
      "outputs": [
        {
          "output_type": "stream",
          "name": "stdout",
          "text": [
            "{'fit_time': array([0.00741386, 0.00706577, 0.0073204 , 0.00731421, 0.00693274]), 'score_time': array([0.00131583, 0.00075173, 0.00093484, 0.00072789, 0.00071001]), 'test_score': array([0.86923077, 0.84615385, 0.87680462, 0.84889317, 0.83541867])}\n",
            "0.855300214703487\n"
          ]
        }
      ]
    },
    {
      "cell_type": "code",
      "metadata": {
        "colab": {
          "base_uri": "https://localhost:8080/"
        },
        "id": "AXGdMoVyidsS",
        "outputId": "49492a74-230c-43ff-ab34-540fad999193"
      },
      "source": [
        "from sklearn.model_selection import StratifiedKFold\n",
        "scores = cross_validate(dt, train_input, train_target,cv=StratifiedKFold())\n",
        "print(np.mean(score['test_score']))"
      ],
      "execution_count": 3,
      "outputs": [
        {
          "output_type": "stream",
          "name": "stdout",
          "text": [
            "0.855300214703487\n"
          ]
        }
      ]
    },
    {
      "cell_type": "code",
      "metadata": {
        "colab": {
          "base_uri": "https://localhost:8080/"
        },
        "id": "40Si7NF9ikpO",
        "outputId": "c09ed49b-b68c-4265-baa9-3031ede883fb"
      },
      "source": [
        "splitter = StratifiedKFold(n_splits=10, shuffle=True, random_state=42)\n",
        "scores = cross_validate(dt, train_input, train_target, cv=splitter)\n",
        "print(np.mean(scores['test_score']))"
      ],
      "execution_count": 4,
      "outputs": [
        {
          "output_type": "stream",
          "name": "stdout",
          "text": [
            "0.8574181117533719\n"
          ]
        }
      ]
    },
    {
      "cell_type": "code",
      "metadata": {
        "colab": {
          "base_uri": "https://localhost:8080/"
        },
        "id": "2rMEDEdiADFS",
        "outputId": "312c3650-1e6d-4ef9-cc7f-f45bb99f855e"
      },
      "source": [
        "from sklearn.model_selection import GridSearchCV\n",
        "params = {'min_impurity_decrease':np.arange(0.0001,0.001,0.0001),'max_depth': range(5,20,1),'min_samples_split': range(2,100,10)}\n",
        "gs=GridSearchCV(DecisionTreeClassifier(random_state=42),params, n_jobs=-1)\n",
        "gs.fit(train_input, train_target)\n",
        "print(gs.best_params_)\n",
        "print(np.max(gs.cv_results_['mean_test_score']))\n",
        "dt = gs.best_estimator_\n",
        "print(dt.score(test_input,test_target))\n"
      ],
      "execution_count": 5,
      "outputs": [
        {
          "output_type": "stream",
          "name": "stdout",
          "text": [
            "{'max_depth': 14, 'min_impurity_decrease': 0.0004, 'min_samples_split': 12}\n",
            "0.8683865773302731\n",
            "0.8615384615384616\n"
          ]
        }
      ]
    },
    {
      "cell_type": "code",
      "metadata": {
        "colab": {
          "base_uri": "https://localhost:8080/"
        },
        "id": "zn1Xks4EFCwW",
        "outputId": "2bfe5695-7529-4408-d00e-3454a9a03e85"
      },
      "source": [
        "from sklearn.model_selection import RandomizedSearchCV\n",
        "gs = RandomizedSearchCV(DecisionTreeClassifier(random_state=42),params, n_iter= 100, n_jobs=-1, random_state=42)\n",
        "gs.fit(train_input,train_target)\n",
        "print(gs.best_params_)\n",
        "print(np.max(gs.cv_results_['mean_test_score']))\n",
        "dt = gs.best_estimator_\n",
        "print(dt.score(test_input,test_target))"
      ],
      "execution_count": 6,
      "outputs": [
        {
          "output_type": "stream",
          "name": "stdout",
          "text": [
            "{'min_samples_split': 12, 'min_impurity_decrease': 0.0005, 'max_depth': 11}\n",
            "0.8681935292811135\n",
            "0.8615384615384616\n"
          ]
        }
      ]
    }
  ]
}
