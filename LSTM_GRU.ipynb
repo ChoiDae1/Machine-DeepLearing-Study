{
  "nbformat": 4,
  "nbformat_minor": 0,
  "metadata": {
    "colab": {
      "name": "LSTM GRU",
      "provenance": [],
      "authorship_tag": "ABX9TyMo+s6FSWkaxwqnIVFufiUX",
      "include_colab_link": true
    },
    "kernelspec": {
      "name": "python3",
      "display_name": "Python 3"
    },
    "language_info": {
      "name": "python"
    },
    "accelerator": "GPU"
  },
  "cells": [
    {
      "cell_type": "markdown",
      "metadata": {
        "id": "view-in-github",
        "colab_type": "text"
      },
      "source": [
        "<a href=\"https://colab.research.google.com/github/ChoiDae1/Machine-DeepLearing_Study/blob/main/LSTM_GRU.ipynb\" target=\"_parent\"><img src=\"https://colab.research.google.com/assets/colab-badge.svg\" alt=\"Open In Colab\"/></a>"
      ]
    },
    {
      "cell_type": "code",
      "metadata": {
        "id": "rUg4GOzzNPbp"
      },
      "source": [
        "from tensorflow.keras.datasets import imdb\n",
        "from sklearn.model_selection import train_test_split\n",
        "(train_input, train_target),(test_input, test_target) = imdb.load_data(num_words=500)\n",
        "train_input, val_input, train_target, val_target = train_test_split(train_input, train_target, test_size=0.2, random_state=42)\n",
        "from tensorflow.keras.preprocessing.sequence import pad_sequences\n",
        "train_seq = pad_sequences(train_input, maxlen=100)\n",
        "val_seq = pad_sequences(val_input, maxlen=100)\n"
      ],
      "execution_count": 2,
      "outputs": []
    },
    {
      "cell_type": "code",
      "metadata": {
        "colab": {
          "base_uri": "https://localhost:8080/"
        },
        "id": "MjtxtHuTz3hX",
        "outputId": "e7e547ba-2049-4ca4-b033-5ce1c3618a71"
      },
      "source": [
        "from tensorflow import keras\n",
        "model = keras.Sequential()\n",
        "model.add(keras.layers.Embedding(500, 16, input_length=100))\n",
        "model.add(keras.layers.LSTM(8,dropout=0.8,return_sequences=True))\n",
        "model.add(keras.layers.LSTM(8,dropout=0.8))\n",
        "model.add(keras.layers.Dense(1,activation='sigmoid'))\n",
        "model.summary()"
      ],
      "execution_count": 3,
      "outputs": [
        {
          "output_type": "stream",
          "name": "stdout",
          "text": [
            "Model: \"sequential\"\n",
            "_________________________________________________________________\n",
            " Layer (type)                Output Shape              Param #   \n",
            "=================================================================\n",
            " embedding (Embedding)       (None, 100, 16)           8000      \n",
            "                                                                 \n",
            " lstm (LSTM)                 (None, 100, 8)            800       \n",
            "                                                                 \n",
            " lstm_1 (LSTM)               (None, 8)                 544       \n",
            "                                                                 \n",
            " dense (Dense)               (None, 1)                 9         \n",
            "                                                                 \n",
            "=================================================================\n",
            "Total params: 9,353\n",
            "Trainable params: 9,353\n",
            "Non-trainable params: 0\n",
            "_________________________________________________________________\n"
          ]
        }
      ]
    },
    {
      "cell_type": "code",
      "metadata": {
        "colab": {
          "base_uri": "https://localhost:8080/"
        },
        "id": "kPXn2XPyz3nu",
        "outputId": "6f6acf0b-6839-416a-b567-cd9e08449156"
      },
      "source": [
        "rmsprop = keras.optimizers.RMSprop(learning_rate=1e-4)\n",
        "model.compile(optimizer=rmsprop, loss='binary_crossentropy', metrics=['accuracy'])\n",
        "checkpoint_cb = keras.callbacks.ModelCheckpoint('best-2rnn-model.h5')\n",
        "early_stopping_cb =keras.callbacks.EarlyStopping(patience=3, restore_best_weights=True)\n",
        "history = model.fit(train_seq, train_target, validation_data=(val_seq, val_target), batch_size=64, callbacks=[checkpoint_cb, early_stopping_cb], epochs=100 )"
      ],
      "execution_count": 4,
      "outputs": [
        {
          "output_type": "stream",
          "name": "stdout",
          "text": [
            "Epoch 1/100\n",
            "313/313 [==============================] - 22s 46ms/step - loss: 0.6931 - accuracy: 0.5106 - val_loss: 0.6926 - val_accuracy: 0.5262\n",
            "Epoch 2/100\n",
            "313/313 [==============================] - 13s 43ms/step - loss: 0.6918 - accuracy: 0.5348 - val_loss: 0.6908 - val_accuracy: 0.5942\n",
            "Epoch 3/100\n",
            "313/313 [==============================] - 13s 42ms/step - loss: 0.6884 - accuracy: 0.5698 - val_loss: 0.6832 - val_accuracy: 0.6352\n",
            "Epoch 4/100\n",
            "313/313 [==============================] - 13s 43ms/step - loss: 0.6706 - accuracy: 0.6149 - val_loss: 0.6433 - val_accuracy: 0.6696\n",
            "Epoch 5/100\n",
            "313/313 [==============================] - 13s 42ms/step - loss: 0.6420 - accuracy: 0.6407 - val_loss: 0.6075 - val_accuracy: 0.6944\n",
            "Epoch 6/100\n",
            "313/313 [==============================] - 13s 42ms/step - loss: 0.6201 - accuracy: 0.6654 - val_loss: 0.5800 - val_accuracy: 0.7118\n",
            "Epoch 7/100\n",
            "313/313 [==============================] - 13s 42ms/step - loss: 0.6003 - accuracy: 0.6849 - val_loss: 0.5577 - val_accuracy: 0.7272\n",
            "Epoch 8/100\n",
            "313/313 [==============================] - 13s 42ms/step - loss: 0.5866 - accuracy: 0.6970 - val_loss: 0.5389 - val_accuracy: 0.7436\n",
            "Epoch 9/100\n",
            "313/313 [==============================] - 13s 42ms/step - loss: 0.5719 - accuracy: 0.7077 - val_loss: 0.5246 - val_accuracy: 0.7508\n",
            "Epoch 10/100\n",
            "313/313 [==============================] - 13s 43ms/step - loss: 0.5597 - accuracy: 0.7178 - val_loss: 0.5152 - val_accuracy: 0.7540\n",
            "Epoch 11/100\n",
            "313/313 [==============================] - 13s 42ms/step - loss: 0.5491 - accuracy: 0.7258 - val_loss: 0.5031 - val_accuracy: 0.7666\n",
            "Epoch 12/100\n",
            "313/313 [==============================] - 13s 42ms/step - loss: 0.5412 - accuracy: 0.7313 - val_loss: 0.4963 - val_accuracy: 0.7654\n",
            "Epoch 13/100\n",
            "313/313 [==============================] - 13s 42ms/step - loss: 0.5302 - accuracy: 0.7427 - val_loss: 0.4873 - val_accuracy: 0.7754\n",
            "Epoch 14/100\n",
            "313/313 [==============================] - 13s 42ms/step - loss: 0.5252 - accuracy: 0.7438 - val_loss: 0.4805 - val_accuracy: 0.7776\n",
            "Epoch 15/100\n",
            "313/313 [==============================] - 13s 42ms/step - loss: 0.5193 - accuracy: 0.7461 - val_loss: 0.4772 - val_accuracy: 0.7764\n",
            "Epoch 16/100\n",
            "313/313 [==============================] - 13s 42ms/step - loss: 0.5124 - accuracy: 0.7530 - val_loss: 0.4708 - val_accuracy: 0.7812\n",
            "Epoch 17/100\n",
            "313/313 [==============================] - 13s 42ms/step - loss: 0.5039 - accuracy: 0.7578 - val_loss: 0.4655 - val_accuracy: 0.7884\n",
            "Epoch 18/100\n",
            "313/313 [==============================] - 13s 42ms/step - loss: 0.5042 - accuracy: 0.7585 - val_loss: 0.4641 - val_accuracy: 0.7882\n",
            "Epoch 19/100\n",
            "313/313 [==============================] - 13s 42ms/step - loss: 0.4998 - accuracy: 0.7614 - val_loss: 0.4665 - val_accuracy: 0.7840\n",
            "Epoch 20/100\n",
            "313/313 [==============================] - 13s 43ms/step - loss: 0.4935 - accuracy: 0.7685 - val_loss: 0.4576 - val_accuracy: 0.7890\n",
            "Epoch 21/100\n",
            "313/313 [==============================] - 13s 43ms/step - loss: 0.4876 - accuracy: 0.7692 - val_loss: 0.4564 - val_accuracy: 0.7922\n",
            "Epoch 22/100\n",
            "313/313 [==============================] - 13s 42ms/step - loss: 0.4920 - accuracy: 0.7669 - val_loss: 0.4534 - val_accuracy: 0.7908\n",
            "Epoch 23/100\n",
            "313/313 [==============================] - 13s 43ms/step - loss: 0.4857 - accuracy: 0.7704 - val_loss: 0.4527 - val_accuracy: 0.7930\n",
            "Epoch 24/100\n",
            "313/313 [==============================] - 13s 43ms/step - loss: 0.4820 - accuracy: 0.7740 - val_loss: 0.4503 - val_accuracy: 0.7954\n",
            "Epoch 25/100\n",
            "313/313 [==============================] - 13s 42ms/step - loss: 0.4846 - accuracy: 0.7679 - val_loss: 0.4490 - val_accuracy: 0.7944\n",
            "Epoch 26/100\n",
            "313/313 [==============================] - 13s 42ms/step - loss: 0.4814 - accuracy: 0.7727 - val_loss: 0.4492 - val_accuracy: 0.7910\n",
            "Epoch 27/100\n",
            "313/313 [==============================] - 13s 42ms/step - loss: 0.4809 - accuracy: 0.7699 - val_loss: 0.4468 - val_accuracy: 0.7968\n",
            "Epoch 28/100\n",
            "313/313 [==============================] - 13s 42ms/step - loss: 0.4776 - accuracy: 0.7767 - val_loss: 0.4471 - val_accuracy: 0.7912\n",
            "Epoch 29/100\n",
            "313/313 [==============================] - 13s 43ms/step - loss: 0.4771 - accuracy: 0.7770 - val_loss: 0.4471 - val_accuracy: 0.7914\n",
            "Epoch 30/100\n",
            "313/313 [==============================] - 13s 42ms/step - loss: 0.4750 - accuracy: 0.7785 - val_loss: 0.4451 - val_accuracy: 0.7932\n",
            "Epoch 31/100\n",
            "313/313 [==============================] - 13s 43ms/step - loss: 0.4711 - accuracy: 0.7811 - val_loss: 0.4437 - val_accuracy: 0.7928\n",
            "Epoch 32/100\n",
            "313/313 [==============================] - 13s 43ms/step - loss: 0.4720 - accuracy: 0.7794 - val_loss: 0.4427 - val_accuracy: 0.7966\n",
            "Epoch 33/100\n",
            "313/313 [==============================] - 13s 43ms/step - loss: 0.4694 - accuracy: 0.7809 - val_loss: 0.4427 - val_accuracy: 0.7936\n",
            "Epoch 34/100\n",
            "313/313 [==============================] - 13s 43ms/step - loss: 0.4717 - accuracy: 0.7790 - val_loss: 0.4421 - val_accuracy: 0.7946\n",
            "Epoch 35/100\n",
            "313/313 [==============================] - 13s 43ms/step - loss: 0.4695 - accuracy: 0.7790 - val_loss: 0.4416 - val_accuracy: 0.7954\n",
            "Epoch 36/100\n",
            "313/313 [==============================] - 13s 43ms/step - loss: 0.4682 - accuracy: 0.7809 - val_loss: 0.4426 - val_accuracy: 0.7952\n",
            "Epoch 37/100\n",
            "313/313 [==============================] - 13s 43ms/step - loss: 0.4699 - accuracy: 0.7822 - val_loss: 0.4430 - val_accuracy: 0.7932\n",
            "Epoch 38/100\n",
            "313/313 [==============================] - 13s 43ms/step - loss: 0.4690 - accuracy: 0.7800 - val_loss: 0.4446 - val_accuracy: 0.7898\n"
          ]
        }
      ]
    },
    {
      "cell_type": "code",
      "metadata": {
        "colab": {
          "base_uri": "https://localhost:8080/",
          "height": 499
        },
        "id": "o7nxLmUh0H00",
        "outputId": "cfca5108-efca-4206-9613-b45b84f4d992"
      },
      "source": [
        "import matplotlib.pyplot as plt\n",
        "plt.plot(history.history['loss'])\n",
        "plt.plot(history.history['val_loss'])\n",
        "plt.xlabel('epochs')\n",
        "plt.ylabel('loss')\n",
        "plt.legend('train','val')\n",
        "plt.show()"
      ],
      "execution_count": 5,
      "outputs": [
        {
          "output_type": "stream",
          "name": "stderr",
          "text": [
            "/usr/local/lib/python3.7/dist-packages/ipykernel_launcher.py:6: UserWarning: Legend does not support 't' instances.\n",
            "A proxy artist may be used instead.\n",
            "See: http://matplotlib.org/users/legend_guide.html#creating-artists-specifically-for-adding-to-the-legend-aka-proxy-artists\n",
            "  \n",
            "/usr/local/lib/python3.7/dist-packages/ipykernel_launcher.py:6: UserWarning: Legend does not support 'r' instances.\n",
            "A proxy artist may be used instead.\n",
            "See: http://matplotlib.org/users/legend_guide.html#creating-artists-specifically-for-adding-to-the-legend-aka-proxy-artists\n",
            "  \n",
            "/usr/local/lib/python3.7/dist-packages/ipykernel_launcher.py:6: UserWarning: Legend does not support 'a' instances.\n",
            "A proxy artist may be used instead.\n",
            "See: http://matplotlib.org/users/legend_guide.html#creating-artists-specifically-for-adding-to-the-legend-aka-proxy-artists\n",
            "  \n"
          ]
        },
        {
          "output_type": "display_data",
          "data": {
            "image/png": "[encoded data removed]",
            "text/plain": [
              "<Figure size 432x288 with 1 Axes>"
            ]
          },
          "metadata": {
            "needs_background": "light"
          }
        }
      ]
    },
    {
      "cell_type": "code",
      "metadata": {
        "colab": {
          "base_uri": "https://localhost:8080/"
        },
        "id": "DzUDcFEN0ICX",
        "outputId": "5bc258b4-79f5-46f9-90a2-59926497bb14"
      },
      "source": [
        "model2 = keras.Sequential()\n",
        "model2.add(keras.layers.Embedding(500, 16, input_length=100))\n",
        "model2.add(keras.layers.GRU(8))\n",
        "model2.add(keras.layers.Dense(1,activation='sigmoid'))\n",
        "model2.summary()\n",
        "rmsprop = keras.optimizers.RMSprop(learning_rate=1e-4)\n",
        "model2.compile(optimizer=rmsprop, loss='binary_crossentropy', metrics=['accuracy'])\n",
        "checkpoint_cb = keras.callbacks.ModelCheckpoint('best-LSTM_model.h5')\n",
        "early_stopping_cb =keras.callbacks.EarlyStopping(patience=3, restore_best_weights=True)\n",
        "history = model2.fit(train_seq, train_target, validation_data=(val_seq, val_target), batch_size=64, callbacks=[checkpoint_cb, early_stopping_cb], epochs=100 )\n"
      ],
      "execution_count": 6,
      "outputs": [
        {
          "output_type": "stream",
          "name": "stdout",
          "text": [
            "Model: \"sequential_1\"\n",
            "_________________________________________________________________\n",
            " Layer (type)                Output Shape              Param #   \n",
            "=================================================================\n",
            " embedding_1 (Embedding)     (None, 100, 16)           8000      \n",
            "                                                                 \n",
            " gru (GRU)                   (None, 8)                 624       \n",
            "                                                                 \n",
            " dense_1 (Dense)             (None, 1)                 9         \n",
            "                                                                 \n",
            "=================================================================\n",
            "Total params: 8,633\n",
            "Trainable params: 8,633\n",
            "Non-trainable params: 0\n",
            "_________________________________________________________________\n",
            "Epoch 1/100\n",
            "313/313 [==============================] - 9s 22ms/step - loss: 0.6926 - accuracy: 0.5293 - val_loss: 0.6916 - val_accuracy: 0.5620\n",
            "Epoch 2/100\n",
            "313/313 [==============================] - 6s 21ms/step - loss: 0.6898 - accuracy: 0.5841 - val_loss: 0.6883 - val_accuracy: 0.5942\n",
            "Epoch 3/100\n",
            "313/313 [==============================] - 7s 21ms/step - loss: 0.6847 - accuracy: 0.6211 - val_loss: 0.6818 - val_accuracy: 0.6142\n",
            "Epoch 4/100\n",
            "313/313 [==============================] - 6s 21ms/step - loss: 0.6749 - accuracy: 0.6395 - val_loss: 0.6695 - val_accuracy: 0.6316\n",
            "Epoch 5/100\n",
            "313/313 [==============================] - 6s 21ms/step - loss: 0.6569 - accuracy: 0.6585 - val_loss: 0.6472 - val_accuracy: 0.6558\n",
            "Epoch 6/100\n",
            "313/313 [==============================] - 6s 21ms/step - loss: 0.6218 - accuracy: 0.6877 - val_loss: 0.6008 - val_accuracy: 0.6988\n",
            "Epoch 7/100\n",
            "313/313 [==============================] - 7s 21ms/step - loss: 0.5487 - accuracy: 0.7312 - val_loss: 0.5220 - val_accuracy: 0.7508\n",
            "Epoch 8/100\n",
            "313/313 [==============================] - 7s 21ms/step - loss: 0.5014 - accuracy: 0.7610 - val_loss: 0.5012 - val_accuracy: 0.7652\n",
            "Epoch 9/100\n",
            "313/313 [==============================] - 7s 21ms/step - loss: 0.4826 - accuracy: 0.7740 - val_loss: 0.4842 - val_accuracy: 0.7732\n",
            "Epoch 10/100\n",
            "313/313 [==============================] - 6s 21ms/step - loss: 0.4689 - accuracy: 0.7825 - val_loss: 0.4751 - val_accuracy: 0.7796\n",
            "Epoch 11/100\n",
            "313/313 [==============================] - 7s 21ms/step - loss: 0.4581 - accuracy: 0.7907 - val_loss: 0.4667 - val_accuracy: 0.7814\n",
            "Epoch 12/100\n",
            "313/313 [==============================] - 7s 21ms/step - loss: 0.4497 - accuracy: 0.7970 - val_loss: 0.4598 - val_accuracy: 0.7882\n",
            "Epoch 13/100\n",
            "313/313 [==============================] - 6s 21ms/step - loss: 0.4438 - accuracy: 0.7998 - val_loss: 0.4556 - val_accuracy: 0.7924\n",
            "Epoch 14/100\n",
            "313/313 [==============================] - 7s 21ms/step - loss: 0.4386 - accuracy: 0.8018 - val_loss: 0.4546 - val_accuracy: 0.7874\n",
            "Epoch 15/100\n",
            "313/313 [==============================] - 6s 21ms/step - loss: 0.4350 - accuracy: 0.8036 - val_loss: 0.4521 - val_accuracy: 0.7942\n",
            "Epoch 16/100\n",
            "313/313 [==============================] - 7s 21ms/step - loss: 0.4315 - accuracy: 0.8076 - val_loss: 0.4503 - val_accuracy: 0.7886\n",
            "Epoch 17/100\n",
            "313/313 [==============================] - 6s 21ms/step - loss: 0.4288 - accuracy: 0.8077 - val_loss: 0.4477 - val_accuracy: 0.7946\n",
            "Epoch 18/100\n",
            "313/313 [==============================] - 6s 21ms/step - loss: 0.4265 - accuracy: 0.8102 - val_loss: 0.4460 - val_accuracy: 0.7954\n",
            "Epoch 19/100\n",
            "313/313 [==============================] - 7s 21ms/step - loss: 0.4245 - accuracy: 0.8127 - val_loss: 0.4511 - val_accuracy: 0.7930\n",
            "Epoch 20/100\n",
            "313/313 [==============================] - 7s 21ms/step - loss: 0.4235 - accuracy: 0.8109 - val_loss: 0.4472 - val_accuracy: 0.7912\n",
            "Epoch 21/100\n",
            "313/313 [==============================] - 7s 21ms/step - loss: 0.4220 - accuracy: 0.8128 - val_loss: 0.4442 - val_accuracy: 0.7976\n",
            "Epoch 22/100\n",
            "313/313 [==============================] - 7s 21ms/step - loss: 0.4206 - accuracy: 0.8130 - val_loss: 0.4434 - val_accuracy: 0.7974\n",
            "Epoch 23/100\n",
            "313/313 [==============================] - 7s 21ms/step - loss: 0.4196 - accuracy: 0.8134 - val_loss: 0.4463 - val_accuracy: 0.7926\n",
            "Epoch 24/100\n",
            "313/313 [==============================] - 7s 21ms/step - loss: 0.4189 - accuracy: 0.8129 - val_loss: 0.4447 - val_accuracy: 0.7928\n",
            "Epoch 25/100\n",
            "313/313 [==============================] - 7s 21ms/step - loss: 0.4179 - accuracy: 0.8152 - val_loss: 0.4432 - val_accuracy: 0.7954\n",
            "Epoch 26/100\n",
            "313/313 [==============================] - 7s 21ms/step - loss: 0.4175 - accuracy: 0.8137 - val_loss: 0.4412 - val_accuracy: 0.7968\n",
            "Epoch 27/100\n",
            "313/313 [==============================] - 7s 21ms/step - loss: 0.4164 - accuracy: 0.8154 - val_loss: 0.4415 - val_accuracy: 0.7976\n",
            "Epoch 28/100\n",
            "313/313 [==============================] - 7s 21ms/step - loss: 0.4162 - accuracy: 0.8149 - val_loss: 0.4418 - val_accuracy: 0.7952\n",
            "Epoch 29/100\n",
            "313/313 [==============================] - 7s 21ms/step - loss: 0.4154 - accuracy: 0.8139 - val_loss: 0.4404 - val_accuracy: 0.7958\n",
            "Epoch 30/100\n",
            "313/313 [==============================] - 7s 21ms/step - loss: 0.4148 - accuracy: 0.8145 - val_loss: 0.4404 - val_accuracy: 0.7968\n",
            "Epoch 31/100\n",
            "313/313 [==============================] - 7s 21ms/step - loss: 0.4151 - accuracy: 0.8144 - val_loss: 0.4396 - val_accuracy: 0.7968\n",
            "Epoch 32/100\n",
            "313/313 [==============================] - 6s 21ms/step - loss: 0.4143 - accuracy: 0.8153 - val_loss: 0.4396 - val_accuracy: 0.7974\n",
            "Epoch 33/100\n",
            "313/313 [==============================] - 7s 21ms/step - loss: 0.4133 - accuracy: 0.8160 - val_loss: 0.4404 - val_accuracy: 0.7976\n",
            "Epoch 34/100\n",
            "313/313 [==============================] - 7s 21ms/step - loss: 0.4132 - accuracy: 0.8153 - val_loss: 0.4383 - val_accuracy: 0.7982\n",
            "Epoch 35/100\n",
            "313/313 [==============================] - 7s 21ms/step - loss: 0.4130 - accuracy: 0.8163 - val_loss: 0.4408 - val_accuracy: 0.7974\n",
            "Epoch 36/100\n",
            "313/313 [==============================] - 6s 21ms/step - loss: 0.4127 - accuracy: 0.8151 - val_loss: 0.4397 - val_accuracy: 0.7990\n",
            "Epoch 37/100\n",
            "313/313 [==============================] - 7s 21ms/step - loss: 0.4122 - accuracy: 0.8159 - val_loss: 0.4482 - val_accuracy: 0.7876\n"
          ]
        }
      ]
    },
    {
      "cell_type": "code",
      "metadata": {
        "colab": {
          "base_uri": "https://localhost:8080/"
        },
        "id": "v6BTzOq40IH7",
        "outputId": "c3f1ca1a-f1dc-4655-f08a-3781f6a4013a"
      },
      "source": [
        "model2.compile(optimizer=rmsprop, loss='binary_crossentropy', metrics=['accuracy'])\n",
        "checkpoint_cb = keras.callbacks.ModelCheckpoint('best-LSTM_model.h5')\n",
        "early_stopping_cb =keras.callbacks.EarlyStopping(patience=3, restore_best_weights=True)\n",
        "history = model2.fit(train_seq, train_target, validation_data=(val_seq, val_target), batch_size=64, callbacks=[checkpoint_cb, early_stopping_cb], epochs=100 )"
      ],
      "execution_count": 7,
      "outputs": [
        {
          "output_type": "stream",
          "name": "stdout",
          "text": [
            "Epoch 1/100\n",
            "313/313 [==============================] - 9s 22ms/step - loss: 0.4130 - accuracy: 0.8140 - val_loss: 0.4407 - val_accuracy: 0.7940\n",
            "Epoch 2/100\n",
            "313/313 [==============================] - 7s 21ms/step - loss: 0.4127 - accuracy: 0.8156 - val_loss: 0.4374 - val_accuracy: 0.8000\n",
            "Epoch 3/100\n",
            "313/313 [==============================] - 7s 21ms/step - loss: 0.4120 - accuracy: 0.8179 - val_loss: 0.4376 - val_accuracy: 0.7980\n",
            "Epoch 4/100\n",
            "313/313 [==============================] - 7s 21ms/step - loss: 0.4118 - accuracy: 0.8163 - val_loss: 0.4398 - val_accuracy: 0.7948\n",
            "Epoch 5/100\n",
            "313/313 [==============================] - 7s 21ms/step - loss: 0.4115 - accuracy: 0.8158 - val_loss: 0.4368 - val_accuracy: 0.7982\n",
            "Epoch 6/100\n",
            "313/313 [==============================] - 6s 21ms/step - loss: 0.4113 - accuracy: 0.8164 - val_loss: 0.4400 - val_accuracy: 0.7932\n",
            "Epoch 7/100\n",
            "313/313 [==============================] - 7s 21ms/step - loss: 0.4110 - accuracy: 0.8166 - val_loss: 0.4370 - val_accuracy: 0.7974\n",
            "Epoch 8/100\n",
            "313/313 [==============================] - 7s 21ms/step - loss: 0.4109 - accuracy: 0.8163 - val_loss: 0.4374 - val_accuracy: 0.8006\n"
          ]
        }
      ]
    },
    {
      "cell_type": "code",
      "metadata": {
        "colab": {
          "base_uri": "https://localhost:8080/",
          "height": 499
        },
        "id": "JGKKrYtF0YhC",
        "outputId": "aa3e735d-22df-4fce-aabb-eceb5173241d"
      },
      "source": [
        "import matplotlib.pyplot as plt\n",
        "plt.plot(history.history['loss'])\n",
        "plt.plot(history.history['val_loss'])\n",
        "plt.xlabel('epochs')\n",
        "plt.ylabel('loss')\n",
        "plt.legend('train','val')\n",
        "plt.show()"
      ],
      "execution_count": 8,
      "outputs": [
        {
          "output_type": "stream",
          "name": "stderr",
          "text": [
            "/usr/local/lib/python3.7/dist-packages/ipykernel_launcher.py:6: UserWarning: Legend does not support 't' instances.\n",
            "A proxy artist may be used instead.\n",
            "See: http://matplotlib.org/users/legend_guide.html#creating-artists-specifically-for-adding-to-the-legend-aka-proxy-artists\n",
            "  \n",
            "/usr/local/lib/python3.7/dist-packages/ipykernel_launcher.py:6: UserWarning: Legend does not support 'r' instances.\n",
            "A proxy artist may be used instead.\n",
            "See: http://matplotlib.org/users/legend_guide.html#creating-artists-specifically-for-adding-to-the-legend-aka-proxy-artists\n",
            "  \n",
            "/usr/local/lib/python3.7/dist-packages/ipykernel_launcher.py:6: UserWarning: Legend does not support 'a' instances.\n",
            "A proxy artist may be used instead.\n",
            "See: http://matplotlib.org/users/legend_guide.html#creating-artists-specifically-for-adding-to-the-legend-aka-proxy-artists\n",
            "  \n"
          ]
        },
        {
          "output_type": "display_data",
          "data": {
            "image/png": "[encoded data removed]",
            "text/plain": [
              "<Figure size 432x288 with 1 Axes>"
            ]
          },
          "metadata": {
            "needs_background": "light"
          }
        }
      ]
    },
    {
      "cell_type": "code",
      "metadata": {
        "colab": {
          "base_uri": "https://localhost:8080/"
        },
        "id": "CbLxOoNs0flR",
        "outputId": "f0afc9c7-65f5-4685-e91b-5a2488d6c3b0"
      },
      "source": [
        "test_seq = pad_sequences(test_input, maxlen=100)\n",
        "rnn_model = keras.models.load_model('best-2rnn-model.h5')\n",
        "rnn_model.evaluate(test_seq,test_target )"
      ],
      "execution_count": 9,
      "outputs": [
        {
          "output_type": "stream",
          "name": "stdout",
          "text": [
            "782/782 [==============================] - 13s 16ms/step - loss: 0.4395 - accuracy: 0.7922\n"
          ]
        },
        {
          "output_type": "execute_result",
          "data": {
            "text/plain": [
              "[0.439470499753952, 0.7921599745750427]"
            ]
          },
          "metadata": {},
          "execution_count": 9
        }
      ]
    }
  ]
}