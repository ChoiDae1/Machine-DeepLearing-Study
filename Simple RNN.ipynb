{
  "nbformat": 4,
  "nbformat_minor": 0,
  "metadata": {
    "colab": {
      "name": "순환 신경망(IMDB)",
      "provenance": [],
      "collapsed_sections": [],
      "authorship_tag": "ABX9TyNoQW3VDC+hTo5X3HyqQ1bm",
      "include_colab_link": true
    },
    "kernelspec": {
      "name": "python3",
      "display_name": "Python 3"
    },
    "language_info": {
      "name": "python"
    },
    "accelerator": "GPU"
  },
  "cells": [
    {
      "cell_type": "markdown",
      "metadata": {
        "id": "view-in-github",
        "colab_type": "text"
      },
      "source": [
        "<a href=\"https://colab.research.google.com/github/ChoiDae1/Machine-DeepLearing_Study/blob/main/%EC%88%9C%ED%99%98_%EC%8B%A0%EA%B2%BD%EB%A7%9D(IMDB).ipynb\" target=\"_parent\"><img src=\"https://colab.research.google.com/assets/colab-badge.svg\" alt=\"Open In Colab\"/></a>"
      ]
    },
    {
      "cell_type": "code",
      "metadata": {
        "colab": {
          "base_uri": "https://localhost:8080/"
        },
        "id": "NJ6X8wnuZ_Yq",
        "outputId": "69d7f536-ce1c-4474-b13d-d73d2c2204ee"
      },
      "source": [
        "from tensorflow.keras.datasets import imdb\n",
        "(train_input, train_target),(test_input, test_target) = imdb.load_data(num_words=500)\n",
        "print(train_input.shape, test_input.shape)\n",
        "print(len(train_input[0]))\n",
        "print(len(train_input[1]))\n",
        "print(train_input[0])\n",
        "print(train_target[:20])\n",
        "\n",
        "from sklearn.model_selection import train_test_split\n",
        "train_input, val_input, train_target, val_target = train_test_split(train_input, train_target, test_size=0.2, random_state=42)\n",
        "\n",
        "import numpy as np\n",
        "lengths = np.array([len(x) for x in train_input])\n",
        "print(np.mean(lengths),np.median(lengths))\n",
        "\n"
      ],
      "execution_count": 1,
      "outputs": [
        {
          "output_type": "stream",
          "name": "stdout",
          "text": [
            "Downloading data from https://storage.googleapis.com/tensorflow/tf-keras-datasets/imdb.npz\n",
            "17465344/17464789 [==============================] - 0s 0us/step\n",
            "17473536/17464789 [==============================] - 0s 0us/step\n",
            "(25000,) (25000,)\n",
            "218\n",
            "189\n",
            "[1, 14, 22, 16, 43, 2, 2, 2, 2, 65, 458, 2, 66, 2, 4, 173, 36, 256, 5, 25, 100, 43, 2, 112, 50, 2, 2, 9, 35, 480, 284, 5, 150, 4, 172, 112, 167, 2, 336, 385, 39, 4, 172, 2, 2, 17, 2, 38, 13, 447, 4, 192, 50, 16, 6, 147, 2, 19, 14, 22, 4, 2, 2, 469, 4, 22, 71, 87, 12, 16, 43, 2, 38, 76, 15, 13, 2, 4, 22, 17, 2, 17, 12, 16, 2, 18, 2, 5, 62, 386, 12, 8, 316, 8, 106, 5, 4, 2, 2, 16, 480, 66, 2, 33, 4, 130, 12, 16, 38, 2, 5, 25, 124, 51, 36, 135, 48, 25, 2, 33, 6, 22, 12, 215, 28, 77, 52, 5, 14, 407, 16, 82, 2, 8, 4, 107, 117, 2, 15, 256, 4, 2, 7, 2, 5, 2, 36, 71, 43, 2, 476, 26, 400, 317, 46, 7, 4, 2, 2, 13, 104, 88, 4, 381, 15, 297, 98, 32, 2, 56, 26, 141, 6, 194, 2, 18, 4, 226, 22, 21, 134, 476, 26, 480, 5, 144, 30, 2, 18, 51, 36, 28, 224, 92, 25, 104, 4, 226, 65, 16, 38, 2, 88, 12, 16, 283, 5, 16, 2, 113, 103, 32, 15, 16, 2, 19, 178, 32]\n",
            "[1 0 0 1 0 0 1 0 1 0 1 0 0 0 0 0 1 1 0 1]\n",
            "239.00925 178.0\n"
          ]
        }
      ]
    },
    {
      "cell_type": "code",
      "metadata": {
        "colab": {
          "base_uri": "https://localhost:8080/",
          "height": 279
        },
        "id": "Xh2VrRXbbWID",
        "outputId": "bc93f3e8-f623-4013-a816-5e980747886f"
      },
      "source": [
        "import matplotlib.pyplot as plt\n",
        "plt.hist(lengths)\n",
        "plt.xlabel('length')\n",
        "plt.ylabel('frequency')\n",
        "plt.show()\n"
      ],
      "execution_count": 2,
      "outputs": [
        {
          "output_type": "display_data",
          "data": {
            "image/png": "[encoded data removed]",
            "text/plain": [
              "<Figure size 432x288 with 1 Axes>"
            ]
          },
          "metadata": {
            "needs_background": "light"
          }
        }
      ]
    },
    {
      "cell_type": "code",
      "metadata": {
        "colab": {
          "base_uri": "https://localhost:8080/"
        },
        "id": "nqKtI5ETbQyT",
        "outputId": "2617aecb-9136-4792-bc38-75f060dfb5eb"
      },
      "source": [
        "from tensorflow.keras.preprocessing.sequence import pad_sequences\n",
        "train_seq = pad_sequences(train_input, maxlen=100)\n",
        "print(train_seq.shape)\n",
        "val_seq = pad_sequences(val_input, maxlen=100)"
      ],
      "execution_count": 3,
      "outputs": [
        {
          "output_type": "stream",
          "name": "stdout",
          "text": [
            "(20000, 100)\n"
          ]
        }
      ]
    },
    {
      "cell_type": "code",
      "metadata": {
        "colab": {
          "base_uri": "https://localhost:8080/"
        },
        "id": "OT9G1O_ta0wk",
        "outputId": "c785c348-97cb-41b2-81f6-d0eb3b9731cf"
      },
      "source": [
        "from tensorflow import keras\n",
        "model = keras.Sequential()\n",
        "model.add(keras.layers.SimpleRNN(8, input_shape=(100,500)))\n",
        "model.add(keras.layers.Dense(1, activation='sigmoid'))\n",
        "#토큰 각각 원핫인코딩\n",
        "train_oh = keras.utils.to_categorical(train_seq)\n",
        "val_oh = keras.utils.to_categorical(val_seq)\n",
        "model.summary()\n",
        "#순환 신경망 훈련하기\n",
        "rmsprop = keras.optimizers.RMSprop(learning_rate=1e-4)\n",
        "model.compile(optimizer=rmsprop, loss='binary_crossentropy', metrics=['accuracy'])\n",
        "checkpoint_cb = keras.callbacks.ModelCheckpoint('best-simplernn-model.h5')\n",
        "early_stopping_cb = keras.callbacks.EarlyStopping(patience=3, restore_best_weights=True)\n",
        "history = model.fit(train_oh, train_target, epochs=100, batch_size=64, validation_data=(val_oh, val_target), callbacks=[checkpoint_cb, early_stopping_cb])"
      ],
      "execution_count": 4,
      "outputs": [
        {
          "output_type": "stream",
          "name": "stdout",
          "text": [
            "Model: \"sequential\"\n",
            "_________________________________________________________________\n",
            " Layer (type)                Output Shape              Param #   \n",
            "=================================================================\n",
            " simple_rnn (SimpleRNN)      (None, 8)                 4072      \n",
            "                                                                 \n",
            " dense (Dense)               (None, 1)                 9         \n",
            "                                                                 \n",
            "=================================================================\n",
            "Total params: 4,081\n",
            "Trainable params: 4,081\n",
            "Non-trainable params: 0\n",
            "_________________________________________________________________\n",
            "Epoch 1/100\n",
            "313/313 [==============================] - 47s 140ms/step - loss: 0.6990 - accuracy: 0.5039 - val_loss: 0.6967 - val_accuracy: 0.5068\n",
            "Epoch 2/100\n",
            "313/313 [==============================] - 43s 136ms/step - loss: 0.6944 - accuracy: 0.5123 - val_loss: 0.6936 - val_accuracy: 0.5102\n",
            "Epoch 3/100\n",
            "313/313 [==============================] - 42s 135ms/step - loss: 0.6919 - accuracy: 0.5181 - val_loss: 0.6924 - val_accuracy: 0.5164\n",
            "Epoch 4/100\n",
            "313/313 [==============================] - 42s 135ms/step - loss: 0.6904 - accuracy: 0.5281 - val_loss: 0.6916 - val_accuracy: 0.5242\n",
            "Epoch 5/100\n",
            "313/313 [==============================] - 42s 134ms/step - loss: 0.6890 - accuracy: 0.5369 - val_loss: 0.6908 - val_accuracy: 0.5306\n",
            "Epoch 6/100\n",
            "313/313 [==============================] - 42s 136ms/step - loss: 0.6874 - accuracy: 0.5457 - val_loss: 0.6898 - val_accuracy: 0.5368\n",
            "Epoch 7/100\n",
            "313/313 [==============================] - 42s 134ms/step - loss: 0.6836 - accuracy: 0.5642 - val_loss: 0.6838 - val_accuracy: 0.5696\n",
            "Epoch 8/100\n",
            "313/313 [==============================] - 42s 134ms/step - loss: 0.6764 - accuracy: 0.5923 - val_loss: 0.6750 - val_accuracy: 0.5960\n",
            "Epoch 9/100\n",
            "313/313 [==============================] - 42s 135ms/step - loss: 0.6660 - accuracy: 0.6204 - val_loss: 0.6638 - val_accuracy: 0.6242\n",
            "Epoch 10/100\n",
            "313/313 [==============================] - 42s 134ms/step - loss: 0.6529 - accuracy: 0.6484 - val_loss: 0.6502 - val_accuracy: 0.6518\n",
            "Epoch 11/100\n",
            "313/313 [==============================] - 42s 133ms/step - loss: 0.6376 - accuracy: 0.6719 - val_loss: 0.6356 - val_accuracy: 0.6730\n",
            "Epoch 12/100\n",
            "313/313 [==============================] - 42s 133ms/step - loss: 0.6203 - accuracy: 0.6949 - val_loss: 0.6186 - val_accuracy: 0.6960\n",
            "Epoch 13/100\n",
            "313/313 [==============================] - 41s 132ms/step - loss: 0.6038 - accuracy: 0.7109 - val_loss: 0.6018 - val_accuracy: 0.7124\n",
            "Epoch 14/100\n",
            "313/313 [==============================] - 42s 135ms/step - loss: 0.5872 - accuracy: 0.7255 - val_loss: 0.5875 - val_accuracy: 0.7246\n",
            "Epoch 15/100\n",
            "313/313 [==============================] - 42s 134ms/step - loss: 0.5713 - accuracy: 0.7344 - val_loss: 0.5717 - val_accuracy: 0.7366\n",
            "Epoch 16/100\n",
            "313/313 [==============================] - 42s 134ms/step - loss: 0.5565 - accuracy: 0.7466 - val_loss: 0.5583 - val_accuracy: 0.7474\n",
            "Epoch 17/100\n",
            "313/313 [==============================] - 43s 138ms/step - loss: 0.5422 - accuracy: 0.7566 - val_loss: 0.5523 - val_accuracy: 0.7410\n",
            "Epoch 18/100\n",
            "313/313 [==============================] - 42s 136ms/step - loss: 0.5294 - accuracy: 0.7643 - val_loss: 0.5357 - val_accuracy: 0.7560\n",
            "Epoch 19/100\n",
            "313/313 [==============================] - 42s 133ms/step - loss: 0.5172 - accuracy: 0.7697 - val_loss: 0.5243 - val_accuracy: 0.7624\n",
            "Epoch 20/100\n",
            "313/313 [==============================] - 42s 133ms/step - loss: 0.5062 - accuracy: 0.7758 - val_loss: 0.5166 - val_accuracy: 0.7624\n",
            "Epoch 21/100\n",
            "313/313 [==============================] - 42s 133ms/step - loss: 0.4961 - accuracy: 0.7815 - val_loss: 0.5085 - val_accuracy: 0.7682\n",
            "Epoch 22/100\n",
            "313/313 [==============================] - 42s 134ms/step - loss: 0.4871 - accuracy: 0.7851 - val_loss: 0.5003 - val_accuracy: 0.7710\n",
            "Epoch 23/100\n",
            "313/313 [==============================] - 42s 134ms/step - loss: 0.4783 - accuracy: 0.7888 - val_loss: 0.4935 - val_accuracy: 0.7754\n",
            "Epoch 24/100\n",
            "313/313 [==============================] - 41s 132ms/step - loss: 0.4710 - accuracy: 0.7930 - val_loss: 0.4864 - val_accuracy: 0.7790\n",
            "Epoch 25/100\n",
            "313/313 [==============================] - 43s 136ms/step - loss: 0.4643 - accuracy: 0.7950 - val_loss: 0.4814 - val_accuracy: 0.7820\n",
            "Epoch 26/100\n",
            "313/313 [==============================] - 42s 133ms/step - loss: 0.4571 - accuracy: 0.7986 - val_loss: 0.4780 - val_accuracy: 0.7868\n",
            "Epoch 27/100\n",
            "313/313 [==============================] - 42s 135ms/step - loss: 0.4515 - accuracy: 0.8022 - val_loss: 0.4757 - val_accuracy: 0.7790\n",
            "Epoch 28/100\n",
            "313/313 [==============================] - 42s 134ms/step - loss: 0.4457 - accuracy: 0.8051 - val_loss: 0.4711 - val_accuracy: 0.7892\n",
            "Epoch 29/100\n",
            "313/313 [==============================] - 42s 134ms/step - loss: 0.4414 - accuracy: 0.8076 - val_loss: 0.4680 - val_accuracy: 0.7862\n",
            "Epoch 30/100\n",
            "313/313 [==============================] - 42s 135ms/step - loss: 0.4371 - accuracy: 0.8062 - val_loss: 0.4658 - val_accuracy: 0.7906\n",
            "Epoch 31/100\n",
            "313/313 [==============================] - 42s 136ms/step - loss: 0.4335 - accuracy: 0.8095 - val_loss: 0.4663 - val_accuracy: 0.7858\n",
            "Epoch 32/100\n",
            "313/313 [==============================] - 42s 134ms/step - loss: 0.4301 - accuracy: 0.8116 - val_loss: 0.4634 - val_accuracy: 0.7854\n",
            "Epoch 33/100\n",
            "313/313 [==============================] - 42s 134ms/step - loss: 0.4268 - accuracy: 0.8108 - val_loss: 0.4641 - val_accuracy: 0.7894\n",
            "Epoch 34/100\n",
            "313/313 [==============================] - 42s 135ms/step - loss: 0.4241 - accuracy: 0.8143 - val_loss: 0.4727 - val_accuracy: 0.7832\n",
            "Epoch 35/100\n",
            "313/313 [==============================] - 42s 134ms/step - loss: 0.4213 - accuracy: 0.8148 - val_loss: 0.4577 - val_accuracy: 0.7922\n",
            "Epoch 36/100\n",
            "313/313 [==============================] - 43s 136ms/step - loss: 0.4191 - accuracy: 0.8145 - val_loss: 0.4584 - val_accuracy: 0.7900\n",
            "Epoch 37/100\n",
            "313/313 [==============================] - 42s 133ms/step - loss: 0.4166 - accuracy: 0.8153 - val_loss: 0.4585 - val_accuracy: 0.7904\n",
            "Epoch 38/100\n",
            "313/313 [==============================] - 42s 133ms/step - loss: 0.4149 - accuracy: 0.8173 - val_loss: 0.4567 - val_accuracy: 0.7898\n",
            "Epoch 39/100\n",
            "313/313 [==============================] - 41s 132ms/step - loss: 0.4129 - accuracy: 0.8174 - val_loss: 0.4554 - val_accuracy: 0.7912\n",
            "Epoch 40/100\n",
            "313/313 [==============================] - 42s 134ms/step - loss: 0.4111 - accuracy: 0.8174 - val_loss: 0.4562 - val_accuracy: 0.7914\n",
            "Epoch 41/100\n",
            "313/313 [==============================] - 42s 134ms/step - loss: 0.4092 - accuracy: 0.8185 - val_loss: 0.4552 - val_accuracy: 0.7920\n",
            "Epoch 42/100\n",
            "313/313 [==============================] - 42s 133ms/step - loss: 0.4074 - accuracy: 0.8214 - val_loss: 0.4544 - val_accuracy: 0.7932\n",
            "Epoch 43/100\n",
            "313/313 [==============================] - 42s 133ms/step - loss: 0.4058 - accuracy: 0.8217 - val_loss: 0.4535 - val_accuracy: 0.7916\n",
            "Epoch 44/100\n",
            "313/313 [==============================] - 42s 133ms/step - loss: 0.4042 - accuracy: 0.8225 - val_loss: 0.4542 - val_accuracy: 0.7908\n",
            "Epoch 45/100\n",
            "313/313 [==============================] - 41s 132ms/step - loss: 0.4031 - accuracy: 0.8223 - val_loss: 0.4541 - val_accuracy: 0.7914\n",
            "Epoch 46/100\n",
            "313/313 [==============================] - 43s 136ms/step - loss: 0.4016 - accuracy: 0.8223 - val_loss: 0.4558 - val_accuracy: 0.7932\n"
          ]
        }
      ]
    },
    {
      "cell_type": "code",
      "metadata": {
        "colab": {
          "base_uri": "https://localhost:8080/",
          "height": 279
        },
        "id": "BnxL1_Bia6W-",
        "outputId": "ea05e47d-a83d-4db0-8597-f54797a11312"
      },
      "source": [
        "plt.plot(history.history['loss'])\n",
        "plt.plot(history.history['val_loss'])\n",
        "plt.xlabel('epoch')\n",
        "plt.ylabel('loss')\n",
        "plt.legend(['train','val'])\n",
        "plt.show()"
      ],
      "execution_count": 5,
      "outputs": [
        {
          "output_type": "display_data",
          "data": {
            "image/png": "[encoded data removed]",
            "text/plain": [
              "<Figure size 432x288 with 1 Axes>"
            ]
          },
          "metadata": {
            "needs_background": "light"
          }
        }
      ]
    },
    {
      "cell_type": "code",
      "metadata": {
        "colab": {
          "base_uri": "https://localhost:8080/"
        },
        "id": "p4DAZNS1a6hP",
        "outputId": "0fe4c3b9-8660-44b4-cfdb-8d9d6fb667d7"
      },
      "source": [
        "#단어임베딩 사용(원핫인코딩 대신)\n",
        "model2 = keras.Sequential()\n",
        "model2.add(keras.layers.Embedding(500, 16, input_length=100))\n",
        "model2.add(keras.layers.SimpleRNN(8))\n",
        "model2.add(keras.layers.Dense(1, activation='sigmoid'))\n",
        "model2.summary()\n",
        "rmsprop = keras.optimizers.RMSprop(learning_rate=1e-4)\n",
        "model2.compile(optimizer=rmsprop, loss='binary_crossentropy', metrics=['accuracy'])\n",
        "checkpoint_cb = keras.callbacks.ModelCheckpoint('best-simplernn-model.h5')\n",
        "early_stopping_cb = keras.callbacks.EarlyStopping(patience=3, restore_best_weights=True)\n",
        "history = model2.fit(train_seq, train_target, epochs=100, batch_size=64, validation_data=(val_seq, val_target), callbacks=[checkpoint_cb, early_stopping_cb])\n",
        "\n"
      ],
      "execution_count": 6,
      "outputs": [
        {
          "output_type": "stream",
          "name": "stdout",
          "text": [
            "Model: \"sequential_1\"\n",
            "_________________________________________________________________\n",
            " Layer (type)                Output Shape              Param #   \n",
            "=================================================================\n",
            " embedding (Embedding)       (None, 100, 16)           8000      \n",
            "                                                                 \n",
            " simple_rnn_1 (SimpleRNN)    (None, 8)                 200       \n",
            "                                                                 \n",
            " dense_1 (Dense)             (None, 1)                 9         \n",
            "                                                                 \n",
            "=================================================================\n",
            "Total params: 8,209\n",
            "Trainable params: 8,209\n",
            "Non-trainable params: 0\n",
            "_________________________________________________________________\n",
            "Epoch 1/100\n",
            "313/313 [==============================] - 57s 176ms/step - loss: 0.6874 - accuracy: 0.5469 - val_loss: 0.6749 - val_accuracy: 0.5936\n",
            "Epoch 2/100\n",
            "313/313 [==============================] - 54s 174ms/step - loss: 0.6590 - accuracy: 0.6445 - val_loss: 0.6454 - val_accuracy: 0.6702\n",
            "Epoch 3/100\n",
            "313/313 [==============================] - 55s 174ms/step - loss: 0.6325 - accuracy: 0.6905 - val_loss: 0.6253 - val_accuracy: 0.7076\n",
            "Epoch 4/100\n",
            "313/313 [==============================] - 54s 174ms/step - loss: 0.6082 - accuracy: 0.7207 - val_loss: 0.6055 - val_accuracy: 0.7182\n",
            "Epoch 5/100\n",
            "313/313 [==============================] - 55s 175ms/step - loss: 0.5856 - accuracy: 0.7412 - val_loss: 0.5834 - val_accuracy: 0.7366\n",
            "Epoch 6/100\n",
            "313/313 [==============================] - 55s 174ms/step - loss: 0.5649 - accuracy: 0.7561 - val_loss: 0.5674 - val_accuracy: 0.7432\n",
            "Epoch 7/100\n",
            "313/313 [==============================] - 55s 175ms/step - loss: 0.5465 - accuracy: 0.7667 - val_loss: 0.5510 - val_accuracy: 0.7508\n",
            "Epoch 8/100\n",
            "313/313 [==============================] - 54s 174ms/step - loss: 0.5288 - accuracy: 0.7745 - val_loss: 0.5370 - val_accuracy: 0.7622\n",
            "Epoch 9/100\n",
            "313/313 [==============================] - 55s 175ms/step - loss: 0.5138 - accuracy: 0.7821 - val_loss: 0.5262 - val_accuracy: 0.7616\n",
            "Epoch 10/100\n",
            "313/313 [==============================] - 55s 175ms/step - loss: 0.4994 - accuracy: 0.7896 - val_loss: 0.5152 - val_accuracy: 0.7686\n",
            "Epoch 11/100\n",
            "313/313 [==============================] - 55s 176ms/step - loss: 0.4869 - accuracy: 0.7943 - val_loss: 0.5054 - val_accuracy: 0.7694\n",
            "Epoch 12/100\n",
            "313/313 [==============================] - 55s 175ms/step - loss: 0.4754 - accuracy: 0.7997 - val_loss: 0.4945 - val_accuracy: 0.7756\n",
            "Epoch 13/100\n",
            "313/313 [==============================] - 55s 175ms/step - loss: 0.4645 - accuracy: 0.8014 - val_loss: 0.4881 - val_accuracy: 0.7758\n",
            "Epoch 14/100\n",
            "313/313 [==============================] - 55s 175ms/step - loss: 0.4553 - accuracy: 0.8059 - val_loss: 0.4816 - val_accuracy: 0.7758\n",
            "Epoch 15/100\n",
            "313/313 [==============================] - 54s 174ms/step - loss: 0.4475 - accuracy: 0.8098 - val_loss: 0.4787 - val_accuracy: 0.7750\n",
            "Epoch 16/100\n",
            "313/313 [==============================] - 54s 173ms/step - loss: 0.4400 - accuracy: 0.8110 - val_loss: 0.4741 - val_accuracy: 0.7794\n",
            "Epoch 17/100\n",
            "313/313 [==============================] - 55s 176ms/step - loss: 0.4337 - accuracy: 0.8146 - val_loss: 0.4750 - val_accuracy: 0.7770\n",
            "Epoch 18/100\n",
            "313/313 [==============================] - 54s 173ms/step - loss: 0.4283 - accuracy: 0.8162 - val_loss: 0.4676 - val_accuracy: 0.7820\n",
            "Epoch 19/100\n",
            "313/313 [==============================] - 55s 177ms/step - loss: 0.4234 - accuracy: 0.8191 - val_loss: 0.4655 - val_accuracy: 0.7808\n",
            "Epoch 20/100\n",
            "313/313 [==============================] - 55s 174ms/step - loss: 0.4197 - accuracy: 0.8191 - val_loss: 0.4650 - val_accuracy: 0.7826\n",
            "Epoch 21/100\n",
            "313/313 [==============================] - 55s 175ms/step - loss: 0.4158 - accuracy: 0.8221 - val_loss: 0.4625 - val_accuracy: 0.7824\n",
            "Epoch 22/100\n",
            "313/313 [==============================] - 54s 173ms/step - loss: 0.4127 - accuracy: 0.8221 - val_loss: 0.4639 - val_accuracy: 0.7804\n",
            "Epoch 23/100\n",
            "313/313 [==============================] - 54s 173ms/step - loss: 0.4098 - accuracy: 0.8225 - val_loss: 0.4586 - val_accuracy: 0.7836\n",
            "Epoch 24/100\n",
            "313/313 [==============================] - 54s 173ms/step - loss: 0.4071 - accuracy: 0.8242 - val_loss: 0.4612 - val_accuracy: 0.7786\n",
            "Epoch 25/100\n",
            "313/313 [==============================] - 54s 174ms/step - loss: 0.4052 - accuracy: 0.8253 - val_loss: 0.4606 - val_accuracy: 0.7828\n",
            "Epoch 26/100\n",
            "313/313 [==============================] - 53s 171ms/step - loss: 0.4028 - accuracy: 0.8260 - val_loss: 0.4596 - val_accuracy: 0.7852\n"
          ]
        }
      ]
    },
    {
      "cell_type": "code",
      "metadata": {
        "colab": {
          "base_uri": "https://localhost:8080/",
          "height": 282
        },
        "id": "aKnXFjhybI9S",
        "outputId": "c3b61c2f-8ad1-4039-8a0a-dcbf17f97ab4"
      },
      "source": [
        "plt.plot(history.history['loss'])\n",
        "plt.plot(history.history['val_loss'])\n",
        "plt.xlabel('epoch')\n",
        "plt.ylabel('loss')\n",
        "plt.legend(['train','val'])\n",
        "plt.show()\n"
      ],
      "execution_count": 7,
      "outputs": [
        {
          "output_type": "display_data",
          "data": {
            "image/png": "[encoded data removed]",
            "text/plain": [
              "<Figure size 432x288 with 1 Axes>"
            ]
          },
          "metadata": {
            "needs_background": "light"
          }
        }
      ]
    }
  ]
}
