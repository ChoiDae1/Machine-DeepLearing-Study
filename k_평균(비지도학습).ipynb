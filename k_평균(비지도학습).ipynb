{
  "nbformat": 4,
  "nbformat_minor": 0,
  "metadata": {
    "colab": {
      "name": "k 평균(비지도학습)",
      "provenance": [],
      "authorship_tag": "ABX9TyPlNnKvsZr/utKq6MQEtnXL",
      "include_colab_link": true
    },
    "kernelspec": {
      "name": "python3",
      "display_name": "Python 3"
    }
  },
  "cells": [
    {
      "cell_type": "markdown",
      "metadata": {
        "id": "view-in-github",
        "colab_type": "text"
      },
      "source": [
        "<a href=\"https://colab.research.google.com/github/ChoiDae1/Machine-DeepLearing_Study/blob/main/k_%ED%8F%89%EA%B7%A0(%EB%B9%84%EC%A7%80%EB%8F%84%ED%95%99%EC%8A%B5).ipynb\" target=\"_parent\"><img src=\"https://colab.research.google.com/assets/colab-badge.svg\" alt=\"Open In Colab\"/></a>"
      ]
    },
    {
      "cell_type": "code",
      "metadata": {
        "colab": {
          "base_uri": "https://localhost:8080/",
          "height": 834
        },
        "id": "lT_3L3tmiSaK",
        "outputId": "74706969-06b8-49b8-c5ce-32620f90c4c6"
      },
      "source": [
        "!wget https://bit.ly/fruits_300_data -O fruits_300.npy\n",
        "import numpy as np\n",
        "import matplotlib.pyplot as plt\n",
        "fruits = np.load('fruits_300.npy')\n",
        "fruits_2d = fruits.reshape(-1,100*100)\n",
        "from sklearn.cluster import KMeans\n",
        "km = KMeans(n_clusters=3, random_state=42)\n",
        "km.fit(fruits_2d)\n",
        "print(km.labels_)\n",
        "print(np.unique(km.labels_, return_counts=True))\n",
        "import matplotlib.pyplot as plt\n",
        "def draw_fruits(arr, ratio=1):\n",
        "  n= len(arr)\n",
        "  rows = int(np.ceil(n/10))\n",
        "  cols = n if rows< 2 else 10\n",
        "  fig, axs = plt.subplots(rows, cols, figsize=(cols*ratio, rows*ratio), squeeze=False)\n",
        "  for i in range(rows):\n",
        "    for j in range(cols):\n",
        "      if 10*i+j < n:\n",
        "        axs[i,j].imshow(arr[10*i+j], cmap='gray_r')\n",
        "        axs[i,j].axis('off')\n",
        "plt.show() \n",
        "'''draw_fruits(fruits[km.labels_==0])\n",
        "draw_fruits(fruits[km.labels_==1])\n",
        "draw_fruits(fruits[km.labels_==2])\n",
        "draw_fruits(km.cluster_centers_.reshape(-1,100,100),ratio=3)\n",
        "print(km.transform(fruits_2d[100:101]))\n",
        "print(km.predict(fruits_2d[100:101]))\n",
        "draw_fruits(fruits[100:101])\n",
        "print(km.n_iter_)'''\n",
        "inertia=[]\n",
        "for k in range(2,7):\n",
        "  km = KMeans(n_clusters=k, random_state=42)\n",
        "  km.fit(fruits_2d)\n",
        "  inertia.append(km.inertia_)\n",
        "plt.plot(range(2,7), inertia)\n",
        "plt.show()"
      ],
      "execution_count": null,
      "outputs": [
        {
          "output_type": "stream",
          "text": [
            "--2021-03-16 02:21:00--  https://bit.ly/fruits_300_data\n",
            "Resolving bit.ly (bit.ly)... 67.199.248.11, 67.199.248.10\n",
            "Connecting to bit.ly (bit.ly)|67.199.248.11|:443... connected.\n",
            "HTTP request sent, awaiting response... 301 Moved Permanently\n",
            "Location: https://github.com/rickiepark/hg-mldl/raw/master/fruits_300.npy [following]\n",
            "--2021-03-16 02:21:00--  https://github.com/rickiepark/hg-mldl/raw/master/fruits_300.npy\n",
            "Resolving github.com (github.com)... 140.82.112.4\n",
            "Connecting to github.com (github.com)|140.82.112.4|:443... connected.\n",
            "HTTP request sent, awaiting response... 302 Found\n",
            "Location: https://raw.githubusercontent.com/rickiepark/hg-mldl/master/fruits_300.npy [following]\n",
            "--2021-03-16 02:21:01--  https://raw.githubusercontent.com/rickiepark/hg-mldl/master/fruits_300.npy\n",
            "Resolving raw.githubusercontent.com (raw.githubusercontent.com)... 185.199.108.133, 185.199.109.133, 185.199.110.133, ...\n",
            "Connecting to raw.githubusercontent.com (raw.githubusercontent.com)|185.199.108.133|:443... connected.\n",
            "HTTP request sent, awaiting response... 200 OK\n",
            "Length: 3000128 (2.9M) [application/octet-stream]\n",
            "Saving to: ‘fruits_300.npy’\n",
            "\n",
            "fruits_300.npy      100%[===================>]   2.86M  --.-KB/s    in 0.09s   \n",
            "\n",
            "2021-03-16 02:21:01 (31.7 MB/s) - ‘fruits_300.npy’ saved [3000128/3000128]\n",
            "\n",
            "[0 0 0 0 0 2 0 0 0 0 0 0 0 0 0 0 0 0 2 0 0 0 0 0 0 0 0 0 0 0 0 0 0 0 0 0 0\n",
            " 0 0 0 0 0 2 0 2 0 0 0 0 0 0 0 2 0 0 0 0 0 0 0 0 0 2 2 0 0 0 0 0 0 0 0 2 0\n",
            " 0 0 0 0 0 0 0 0 0 0 0 0 0 0 0 0 0 2 0 0 0 0 0 0 0 0 2 2 2 2 2 2 2 2 2 2 2\n",
            " 2 2 2 2 2 2 2 2 2 2 2 2 2 2 2 2 2 2 2 2 2 2 2 2 2 2 2 2 2 2 2 2 2 2 2 2 2\n",
            " 2 2 2 2 2 2 2 2 2 2 2 2 2 2 2 2 2 2 2 2 2 2 2 2 2 2 2 2 2 2 2 2 2 2 2 2 2\n",
            " 2 2 2 2 2 2 2 2 2 2 2 2 2 2 2 1 1 1 1 1 1 1 1 1 1 1 1 1 1 1 1 1 1 1 1 1 1\n",
            " 1 1 1 1 1 1 1 1 1 2 1 1 1 1 1 1 1 1 1 1 1 1 1 1 1 1 1 1 1 1 1 1 1 1 1 1 1\n",
            " 1 1 1 1 1 1 1 1 1 1 1 1 1 1 2 1 1 1 1 1 1 1 1 1 1 1 1 1 1 1 1 1 1 1 1 1 1\n",
            " 1 1 1 1]\n",
            "(array([0, 1, 2], dtype=int32), array([ 91,  98, 111]))\n"
          ],
          "name": "stdout"
        },
        {
          "output_type": "display_data",
          "data": {
            "image/png": "[encoded data removed]",
            "text/plain": [
              "<Figure size 432x288 with 1 Axes>"
            ]
          },
          "metadata": {
            "tags": [],
            "needs_background": "light"
          }
        }
      ]
    },
    {
      "cell_type": "code",
      "metadata": {
        "id": "ARhrC27XzKQ2"
      },
      "source": [
        ""
      ],
      "execution_count": null,
      "outputs": []
    }
  ]
}