{
  "nbformat": 4,
  "nbformat_minor": 0,
  "metadata": {
    "colab": {
      "name": "교차검증",
      "provenance": [],
      "authorship_tag": "ABX9TyOdmB6ug8Y63eq4oHskK3wu",
      "include_colab_link": true
    },
    "kernelspec": {
      "display_name": "Python 3",
      "name": "python3"
    }
  },
  "cells": [
    {
      "cell_type": "markdown",
      "metadata": {
        "id": "view-in-github",
        "colab_type": "text"
      },
      "source": [
        "<a href=\"https://colab.research.google.com/github/ChoiDae1/Machine-DeepLearing_Study/blob/main/%EA%B5%90%EC%B0%A8%EA%B2%80%EC%A6%9D.ipynb\" target=\"_parent\"><img src=\"https://colab.research.google.com/assets/colab-badge.svg\" alt=\"Open In Colab\"/></a>"
      ]
    },
    {
      "cell_type": "code",
      "metadata": {
        "colab": {
          "base_uri": "https://localhost:8080/"
        },
        "id": "Hjqx0N7WsYOp",
        "outputId": "1d18e787-d4ba-49c1-d86e-24dabf3639a7"
      },
      "source": [
        "import pandas as pd\n",
        "wine= pd.read_csv('https://bit.ly/wine-date')\n",
        "wine_input = wine[['alcohol', 'sugar', 'pH' ]].to_numpy()\n",
        "wine_target = wine['class'].to_numpy()\n",
        "from sklearn.model_selection import train_test_split\n",
        "train_input,test_input,train_target,test_target = train_test_split(wine_input,wine_target,random_state=42,test_size = 0.2)\n",
        "print(train_input.shape,train_target.shape)\n",
        "sub_input,val_input,sub_target,val_target = train_test_split(train_input,train_target,random_state=42,test_size=0.2)\n",
        "print(sub_input.shape,sub_target.shape)\n",
        "from sklearn.tree import DecisionTreeClassifier\n",
        "dt = DecisionTreeClassifier(random_state=42)\n",
        "dt.fit(sub_input,sub_target)\n",
        "print(dt.score(sub_input, sub_target))\n",
        "print(dt.score(val_input,val_target))\n",
        "from sklearn.model_selection import cross_validate\n",
        "score=cross_validate(dt, train_input,train_target)\n",
        "print(score)\n",
        "import numpy as np\n",
        "print(np.mean(score['test_score']))\n",
        "from sklearn.model_selection import StratifiedKFold\n",
        "scores = cross_validate(dt, train_input, train_target,cv=StratifiedKFold())\n",
        "print(np.mean(score['test_score']))\n",
        "splitter = StratifiedKFold(n_splits=10, shuffle=True, random_state=42)\n",
        "scores = cross_validate(dt, train_input, train_target, cv=splitter)\n",
        "print(np.mean(scores['test_score']))"
      ],
      "execution_count": null,
      "outputs": [
        {
          "output_type": "stream",
          "text": [
            "(5197, 3) (5197,)\n",
            "(4157, 3) (4157,)\n",
            "0.9971133028626413\n",
            "0.864423076923077\n",
            "{'fit_time': array([0.00689054, 0.00675106, 0.00704026, 0.00702858, 0.00676513]), 'score_time': array([0.00060177, 0.00054073, 0.00056267, 0.00058341, 0.00054431]), 'test_score': array([0.86923077, 0.84615385, 0.87680462, 0.84889317, 0.83541867])}\n",
            "0.855300214703487\n",
            "0.855300214703487\n",
            "0.8574181117533719\n"
          ],
          "name": "stdout"
        }
      ]
    },
    {
      "cell_type": "code",
      "metadata": {
        "colab": {
          "base_uri": "https://localhost:8080/"
        },
        "id": "2rMEDEdiADFS",
        "outputId": "6397cc03-2d2f-4f77-e8f5-eaad28fc3fbf"
      },
      "source": [
        "import pandas as pd\n",
        "import numpy as np\n",
        "\n",
        "wine= pd.read_csv('https://bit.ly/wine-date')\n",
        "wine_input = wine[['alcohol', 'sugar', 'pH' ]].to_numpy()\n",
        "wine_target = wine['class'].to_numpy()\n",
        "from sklearn.model_selection import train_test_split\n",
        "train_input,test_input,train_target,test_target = train_test_split(wine_input,wine_target,random_state=42,test_size = 0.2)\n",
        "from sklearn.tree import DecisionTreeClassifier\n",
        "dt = DecisionTreeClassifier(random_state=42)\n",
        "from sklearn.model_selection import GridSearchCV\n",
        "params = {'min_impurity_decrease':[0.0001,0.0002,0.0003,0.0004,0.0005]}\n",
        "gs = GridSearchCV(dt, params, n_jobs=-1)\n",
        "gs.fit(train_input, train_target)\n",
        "dt = gs.best_estimator_\n",
        "print(dt.score(train_input,train_target))\n",
        "print(gs.best_params_)\n",
        "print(gs.cv_results_['mean_test_score'])\n",
        "best_index = np.argmax(gs.cv_results_['mean_test_score'])\n",
        "print(gs.cv_results_['params'][best_index])\n",
        "params = {'min_impurity_decrease':np.arange(0.0001,0.001,0.0001),'max_depth': range(5,20,1),'min_samples_split': range(2,100,10)}\n",
        "gs=GridSearchCV(DecisionTreeClassifier(random_state=42),params, n_jobs=-1)\n",
        "gs.fit(train_input, train_target)\n",
        "print(gs.best_params_)\n",
        "print(np.max(gs.cv_results_['mean_test_score']))\n",
        "\n"
      ],
      "execution_count": null,
      "outputs": [
        {
          "output_type": "stream",
          "text": [
            "0.9615162593804117\n",
            "{'min_impurity_decrease': 0.0001}\n",
            "[0.86819297 0.86453617 0.86492226 0.86780891 0.86761605]\n",
            "{'min_impurity_decrease': 0.0001}\n",
            "{'max_depth': 14, 'min_impurity_decrease': 0.0004, 'min_samples_split': 12}\n",
            "0.8683865773302731\n"
          ],
          "name": "stdout"
        }
      ]
    },
    {
      "cell_type": "code",
      "metadata": {
        "colab": {
          "base_uri": "https://localhost:8080/"
        },
        "id": "zn1Xks4EFCwW",
        "outputId": "db128017-ca7b-4b25-ae1d-bb50709fadc0"
      },
      "source": [
        "import pandas as pd\n",
        "import numpy as np\n",
        "\n",
        "wine= pd.read_csv('https://bit.ly/wine-date')\n",
        "wine_input = wine[['alcohol', 'sugar', 'pH' ]].to_numpy()\n",
        "wine_target = wine['class'].to_numpy()\n",
        "from sklearn.model_selection import train_test_split\n",
        "train_input,test_input,train_target,test_target = train_test_split(wine_input,wine_target,random_state=42,test_size = 0.2)\n",
        "from sklearn.tree import DecisionTreeClassifier\n",
        "from scipy.stats import uniform, randint\n",
        "params = {'min_impurity_decrease':uniform(0.0001,0.001),'max_depth':randint(20,50),'min_samples_split': randint(2,25),'min_samples_leaf':randint(1,25)}\n",
        "from sklearn.model_selection import RandomizedSearchCV\n",
        "gs = RandomizedSearchCV(DecisionTreeClassifier(random_state=42),params, n_iter= 100, n_jobs=-1, random_state=42)\n",
        "gs.fit(train_input,train_target)\n",
        "print(gs.best_params_)\n",
        "print(np.max(gs.cv_results_['mean_test_score']))\n",
        "dt = gs.best_estimator_\n",
        "print(dt.score(test_input,test_target))"
      ],
      "execution_count": null,
      "outputs": [
        {
          "output_type": "stream",
          "text": [
            "{'max_depth': 39, 'min_impurity_decrease': 0.00034102546602601173, 'min_samples_leaf': 7, 'min_samples_split': 13}\n",
            "0.8695428296438884\n",
            "0.86\n"
          ],
          "name": "stdout"
        }
      ]
    }
  ]
}