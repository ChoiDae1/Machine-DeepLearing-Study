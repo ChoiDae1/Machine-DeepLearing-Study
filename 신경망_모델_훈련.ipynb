{
  "nbformat": 4,
  "nbformat_minor": 0,
  "metadata": {
    "colab": {
      "name": "신경망 모델 훈련",
      "provenance": [],
      "authorship_tag": "ABX9TyMcIhAPJbDXGqFcZ+BOn+NY",
      "include_colab_link": true
    },
    "kernelspec": {
      "name": "python3",
      "display_name": "Python 3"
    },
    "language_info": {
      "name": "python"
    }
  },
  "cells": [
    {
      "cell_type": "markdown",
      "metadata": {
        "id": "view-in-github",
        "colab_type": "text"
      },
      "source": [
        "<a href=\"https://colab.research.google.com/github/ChoiDae1/Machine-DeepLearing_Study/blob/main/%EC%8B%A0%EA%B2%BD%EB%A7%9D_%EB%AA%A8%EB%8D%B8_%ED%9B%88%EB%A0%A8.ipynb\" target=\"_parent\"><img src=\"https://colab.research.google.com/assets/colab-badge.svg\" alt=\"Open In Colab\"/></a>"
      ]
    },
    {
      "cell_type": "code",
      "metadata": {
        "colab": {
          "base_uri": "https://localhost:8080/",
          "height": 315
        },
        "id": "D6pjRmgJVWn_",
        "outputId": "0ba07166-9b5a-4ea7-fbe9-add8f52684bb"
      },
      "source": [
        "from tensorflow import keras\n",
        "(train_input, train_target),(train_input, train_target) =\\\n",
        "keras.datasets.fashion_mnist.load_data()\n",
        "from sklearn.model_selection import train_test_split\n",
        "train_scaled = train_input/255.0\n",
        "train_scaled, val_scaled, train_target, val_target = train_test_split(train_scaled, train_target, test_size=0.2, random_state=42)\n",
        "def model_fn(a_layer=None):\n",
        "      model = keras.Sequential()\n",
        "      model.add(keras.layers.Flatten(input_shape=(28,28)))\n",
        "      model.add(keras.layers.Dense(100, activation='relu'))\n",
        "      if a_layer:\n",
        "        model.add(a_layer)\n",
        "      model.add(keras.layers.Dense(10, activation='softmax'))\n",
        "      return model\n",
        "\"\"\"model = model_fn()\n",
        "model.summary()\n",
        "model.compile(loss='sparse_categorical_crossentropy', metrics='accuracy',optimizer='adam')\n",
        "history = model.fit(train_scaled, train_target, epochs=20, verbose=0, validation_data=(val_scaled, val_target))\n",
        "print(history.history.keys())\n",
        "import matplotlib.pyplot as plt\n",
        "plt.plot(history.history['loss'])\n",
        "plt.plot(history.history['val_loss'])\n",
        "plt.xlabel('epochs')\n",
        "plt.ylabel('loss')\n",
        "plt.legend(['train','val'])\n",
        "plt.show()\n",
        "#드롭아웃(과대적합방지)#\n",
        "model = model_fn(keras.layers.Dropout(0.3))\n",
        "model.summary()\n",
        "model.compile(loss='sparse_categorical_crossentropy', metrics='accuracy',optimizer='adam')\n",
        "history = model.fit(train_scaled, train_target, epochs=20, verbose=0, validation_data=(val_scaled, val_target))\n",
        "print(history.history.keys())\n",
        "import matplotlib.pyplot as plt\n",
        "plt.plot(history.history['loss'])\n",
        "plt.plot(history.history['val_loss'])\n",
        "plt.xlabel('epochs')\n",
        "plt.ylabel('loss')\n",
        "plt.legend(['train','val'])\n",
        "plt.show()\n",
        "model = model_fn(keras.layers.Dropout(0.3))\n",
        "model.summary()\n",
        "model.compile(loss='sparse_categorical_crossentropy', metrics='accuracy',optimizer='adam')\n",
        "history = model.fit(train_scaled, train_target, epochs=10, verbose=0, validation_data=(val_scaled, val_target))\n",
        "#모델 저장과 복원#\n",
        "model.save_weights('model-weights.h5')\n",
        "model.save('model-whole.h5')\n",
        "!ls -al *.h5\n",
        "model = model_fn(keras.layers.Dropout(0.3))\n",
        "model.load_weights('model-weights.h5')\n",
        "import numpy as np\n",
        "val_labels = np.argmax(model.predict(val_scaled),axis=1)\n",
        "print(np.mean(val_labels == val_target))\n",
        "model=keras.models.load_model('model-whole.h5')\n",
        "model.evaluate(val_scaled, val_target)\"\"\"\n",
        "model = model_fn(keras.layers.Dropout(0.3))\n",
        "model.compile(optimizer='adam', loss='sparse_categorical_crossentropy', metrics='accuracy')\n",
        "checkpoint_cb = keras.callbacks.ModelCheckpoint('best-model.h5')\n",
        "early_stopping_cb = keras.callbacks.EarlyStopping(patience=2, restore_best_weights=True)\n",
        "history = model.fit(train_scaled, train_target, epochs=20, verbose=0, validation_data=(val_scaled, val_target), callbacks=[checkpoint_cb,early_stopping_cb])\n",
        "print(early_stopping_cb.stopped_epoch)\n",
        "plt.plot(history.history['loss'])\n",
        "plt.plot(history.history['val_loss'])\n",
        "model.evaluate(val_scaled,val_target)\n",
        "plt.xlabel('epoch')\n",
        "plt.ylabel('loss')\n",
        "plt.legend(['train','val'])\n",
        "plt.show()\n",
        "\n",
        "\n",
        "\n"
      ],
      "execution_count": null,
      "outputs": [
        {
          "output_type": "stream",
          "text": [
            "10\n",
            "63/63 [==============================] - 0s 1ms/step - loss: 0.4447 - accuracy: 0.8360\n"
          ],
          "name": "stdout"
        },
        {
          "output_type": "display_data",
          "data": {
            "image/png": "[encoded data removed]",
            "text/plain": [
              "<Figure size 432x288 with 1 Axes>"
            ]
          },
          "metadata": {
            "tags": [],
            "needs_background": "light"
          }
        }
      ]
    }
  ]
}