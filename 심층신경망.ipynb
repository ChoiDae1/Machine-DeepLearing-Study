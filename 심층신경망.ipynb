{
  "nbformat": 4,
  "nbformat_minor": 0,
  "metadata": {
    "colab": {
      "name": "심층신경망",
      "provenance": [],
      "authorship_tag": "ABX9TyO273jEZU58R2Y9hm/cPWMk",
      "include_colab_link": true
    },
    "kernelspec": {
      "name": "python3",
      "display_name": "Python 3"
    },
    "language_info": {
      "name": "python"
    }
  },
  "cells": [
    {
      "cell_type": "markdown",
      "metadata": {
        "id": "view-in-github",
        "colab_type": "text"
      },
      "source": [
        "<a href=\"https://colab.research.google.com/github/ChoiDae1/Machine-DeepLearing_Study/blob/main/%EC%8B%AC%EC%B8%B5%EC%8B%A0%EA%B2%BD%EB%A7%9D.ipynb\" target=\"_parent\"><img src=\"https://colab.research.google.com/assets/colab-badge.svg\" alt=\"Open In Colab\"/></a>"
      ]
    },
    {
      "cell_type": "code",
      "metadata": {
        "colab": {
          "base_uri": "https://localhost:8080/"
        },
        "id": "Ui8GsVbuD1cI",
        "outputId": "1f950e22-10f2-4389-b8ab-089dbea51bf5"
      },
      "source": [
        "from tensorflow import keras\n",
        "(train_input, train_target),(train_input, train_target) =\\\n",
        "keras.datasets.fashion_mnist.load_data()\n",
        "from sklearn.model_selection import train_test_split\n",
        "train_scaled = train_input/255.0\n",
        "train_scaled = train_scaled.reshape(-1, 28*28)\n",
        "train_scaled,val_scaled, train_target, val_target = train_test_split(train_scaled, train_target, random_state=42, test_size=0.2)"
      ],
      "execution_count": 1,
      "outputs": [
        {
          "output_type": "stream",
          "name": "stdout",
          "text": [
            "Downloading data from https://storage.googleapis.com/tensorflow/tf-keras-datasets/train-labels-idx1-ubyte.gz\n",
            "32768/29515 [=================================] - 0s 1us/step\n",
            "40960/29515 [=========================================] - 0s 1us/step\n",
            "Downloading data from https://storage.googleapis.com/tensorflow/tf-keras-datasets/train-images-idx3-ubyte.gz\n",
            "26427392/26421880 [==============================] - 0s 0us/step\n",
            "26435584/26421880 [==============================] - 0s 0us/step\n",
            "Downloading data from https://storage.googleapis.com/tensorflow/tf-keras-datasets/t10k-labels-idx1-ubyte.gz\n",
            "16384/5148 [===============================================================================================] - 0s 0us/step\n",
            "Downloading data from https://storage.googleapis.com/tensorflow/tf-keras-datasets/t10k-images-idx3-ubyte.gz\n",
            "4423680/4422102 [==============================] - 0s 0us/step\n",
            "4431872/4422102 [==============================] - 0s 0us/step\n"
          ]
        }
      ]
    },
    {
      "cell_type": "code",
      "metadata": {
        "colab": {
          "base_uri": "https://localhost:8080/"
        },
        "id": "n_o6oqk3b7n3",
        "outputId": "a7a98b09-8b23-4238-aab7-e381379a5cd9"
      },
      "source": [
        "dense1 = keras.layers.Dense(100, activation='sigmoid', input_shape=(784,))\n",
        "dense2 = keras.layers.Dense(10, activation='softmax')\n",
        "model = keras.Sequential([dense1, dense2])\n",
        "model.summary()"
      ],
      "execution_count": 2,
      "outputs": [
        {
          "output_type": "stream",
          "name": "stdout",
          "text": [
            "Model: \"sequential\"\n",
            "_________________________________________________________________\n",
            " Layer (type)                Output Shape              Param #   \n",
            "=================================================================\n",
            " dense (Dense)               (None, 100)               78500     \n",
            "                                                                 \n",
            " dense_1 (Dense)             (None, 10)                1010      \n",
            "                                                                 \n",
            "=================================================================\n",
            "Total params: 79,510\n",
            "Trainable params: 79,510\n",
            "Non-trainable params: 0\n",
            "_________________________________________________________________\n"
          ]
        }
      ]
    },
    {
      "cell_type": "code",
      "metadata": {
        "colab": {
          "base_uri": "https://localhost:8080/"
        },
        "id": "nP4Ma3-ocA-S",
        "outputId": "50fd133f-bac8-4eea-85cf-99bd78329ac5"
      },
      "source": [
        "model = keras.Sequential([keras.layers.Dense(100, activation='sigmoid', input_shape=(784,),name='hidden'),keras.layers.Dense(10, activation='softmax',name='output')],name='패션 MNIST 모델')\n",
        "model.summary()"
      ],
      "execution_count": 3,
      "outputs": [
        {
          "output_type": "stream",
          "name": "stdout",
          "text": [
            "Model: \"패션 MNIST 모델\"\n",
            "_________________________________________________________________\n",
            " Layer (type)                Output Shape              Param #   \n",
            "=================================================================\n",
            " hidden (Dense)              (None, 100)               78500     \n",
            "                                                                 \n",
            " output (Dense)              (None, 10)                1010      \n",
            "                                                                 \n",
            "=================================================================\n",
            "Total params: 79,510\n",
            "Trainable params: 79,510\n",
            "Non-trainable params: 0\n",
            "_________________________________________________________________\n"
          ]
        }
      ]
    },
    {
      "cell_type": "code",
      "metadata": {
        "colab": {
          "base_uri": "https://localhost:8080/"
        },
        "id": "eClUEzLPcFuo",
        "outputId": "5d88bbab-8744-4640-bfb5-be388c728022"
      },
      "source": [
        "model = keras.Sequential()\n",
        "model.add(keras.layers.Dense(100, activation='sigmoid', input_shape=(784,)))\n",
        "model.add(keras.layers.Dense(10, activation='softmax'))\n",
        "model.summary()"
      ],
      "execution_count": 4,
      "outputs": [
        {
          "output_type": "stream",
          "name": "stdout",
          "text": [
            "Model: \"sequential_1\"\n",
            "_________________________________________________________________\n",
            " Layer (type)                Output Shape              Param #   \n",
            "=================================================================\n",
            " dense_2 (Dense)             (None, 100)               78500     \n",
            "                                                                 \n",
            " dense_3 (Dense)             (None, 10)                1010      \n",
            "                                                                 \n",
            "=================================================================\n",
            "Total params: 79,510\n",
            "Trainable params: 79,510\n",
            "Non-trainable params: 0\n",
            "_________________________________________________________________\n"
          ]
        }
      ]
    },
    {
      "cell_type": "code",
      "metadata": {
        "colab": {
          "base_uri": "https://localhost:8080/"
        },
        "id": "-yMY60IGcI-o",
        "outputId": "42c33e2b-b3c3-4c78-9c78-1c2f69c5418d"
      },
      "source": [
        "sgd = keras.optimizers.SGD(momentum=0.9, nesterov=True)\n",
        "adagrad = keras.optimizers.Adagrad()\n",
        "rmsprop = keras.optimizers.RMSprop()\n",
        "\n",
        "model.compile(loss='sparse_categorical_crossentropy', metrics= 'accuracy', optimizer='adam')\n",
        "model.fit(train_scaled, train_target, epochs=5)\n",
        "model.evaluate(val_scaled, val_target)"
      ],
      "execution_count": 5,
      "outputs": [
        {
          "output_type": "stream",
          "name": "stdout",
          "text": [
            "Epoch 1/5\n",
            "250/250 [==============================] - 1s 3ms/step - loss: 1.0074 - accuracy: 0.6913\n",
            "Epoch 2/5\n",
            "250/250 [==============================] - 1s 3ms/step - loss: 0.6182 - accuracy: 0.7914\n",
            "Epoch 3/5\n",
            "250/250 [==============================] - 1s 3ms/step - loss: 0.5364 - accuracy: 0.8139\n",
            "Epoch 4/5\n",
            "250/250 [==============================] - 1s 2ms/step - loss: 0.4922 - accuracy: 0.8263\n",
            "Epoch 5/5\n",
            "250/250 [==============================] - 1s 2ms/step - loss: 0.4607 - accuracy: 0.8381\n",
            "63/63 [==============================] - 0s 2ms/step - loss: 0.4892 - accuracy: 0.8280\n"
          ]
        },
        {
          "output_type": "execute_result",
          "data": {
            "text/plain": [
              "[0.4891679286956787, 0.828000009059906]"
            ]
          },
          "metadata": {},
          "execution_count": 5
        }
      ]
    }
  ]
}