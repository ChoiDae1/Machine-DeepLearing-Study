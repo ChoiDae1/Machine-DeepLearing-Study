{
  "nbformat": 4,
  "nbformat_minor": 0,
  "metadata": {
    "colab": {
      "name": "앙상블 학습",
      "provenance": [],
      "authorship_tag": "ABX9TyOUF5CnmX0Ca0LDrNCeFiVR",
      "include_colab_link": true
    },
    "kernelspec": {
      "name": "python3",
      "display_name": "Python 3"
    }
  },
  "cells": [
    {
      "cell_type": "markdown",
      "metadata": {
        "id": "view-in-github",
        "colab_type": "text"
      },
      "source": [
        "<a href=\"https://colab.research.google.com/github/ChoiDae1/Machine-DeepLearing_Study/blob/main/%EC%95%99%EC%83%81%EB%B8%94_%ED%95%99%EC%8A%B5.ipynb\" target=\"_parent\"><img src=\"https://colab.research.google.com/assets/colab-badge.svg\" alt=\"Open In Colab\"/></a>"
      ]
    },
    {
      "cell_type": "code",
      "metadata": {
        "colab": {
          "base_uri": "https://localhost:8080/"
        },
        "id": "fQQbRthbKWQU",
        "outputId": "52093179-649d-4d82-df79-e2d22a0d2642"
      },
      "source": [
        "import numpy as np\n",
        "import pandas as pd\n",
        "wine= pd.read_csv('https://bit.ly/wine-date')\n",
        "wine_input = wine[['alcohol', 'sugar', 'pH' ]].to_numpy()\n",
        "wine_target = wine['class'].to_numpy()\n",
        "from sklearn.model_selection import train_test_split\n",
        "train_input,test_input,train_target,test_target = train_test_split(wine_input,wine_target,random_state=42,test_size = 0.2)\n",
        "from sklearn.model_selection import cross_validate\n",
        "from sklearn.ensemble import RandomForestClassifier\n",
        "rf = RandomForestClassifier(n_jobs=-1, random_state = 42)\n",
        "scores = cross_validate(rf, train_input, train_target, return_train_score= True, n_jobs=-1)\n",
        "print(np.mean(scores['train_score']),np.mean(scores['test_score']))\n",
        "rf.fit(train_input, train_target)\n",
        "print(rf.feature_importances_)\n",
        "rf = RandomForestClassifier(oob_score=True, n_jobs=-1, random_state=42)\n",
        "rf.fit(train_input, train_target)\n",
        "print(rf.oob_score_)"
      ],
      "execution_count": null,
      "outputs": [
        {
          "output_type": "stream",
          "text": [
            "0.9973541965122431 0.8905151032797809\n",
            "[0.23167441 0.50039841 0.26792718]\n",
            "0.8934000384837406\n"
          ],
          "name": "stdout"
        }
      ]
    },
    {
      "cell_type": "code",
      "metadata": {
        "colab": {
          "base_uri": "https://localhost:8080/"
        },
        "id": "99o0rdOWMmVf",
        "outputId": "c0970862-2deb-44d6-e7dd-b1e47aa4ebe6"
      },
      "source": [
        "import numpy as np\n",
        "import pandas as pd\n",
        "wine= pd.read_csv('https://bit.ly/wine-date')\n",
        "wine_input = wine[['alcohol', 'sugar', 'pH' ]].to_numpy()\n",
        "wine_target = wine['class'].to_numpy()\n",
        "from sklearn.model_selection import train_test_split\n",
        "train_input,test_input,train_target,test_target = train_test_split(wine_input,wine_target,random_state=42,test_size = 0.2)\n",
        "from sklearn.model_selection import cross_validate\n",
        "from sklearn.ensemble import ExtraTreesClassifier\n",
        "et = ExtraTreesClassifier(n_jobs=-1, random_state=42)\n",
        "scores = cross_validate(et, train_input, train_target, return_train_score=True, n_jobs=-1)\n",
        "print(np.mean(scores['train_score']),np.mean(scores['test_score']))\n",
        "et.fit(train_input, train_target)\n",
        "print(et.feature_importances_)"
      ],
      "execution_count": null,
      "outputs": [
        {
          "output_type": "stream",
          "text": [
            "0.9974503966084433 0.8887848893166506\n",
            "[0.20183568 0.52242907 0.27573525]\n"
          ],
          "name": "stdout"
        }
      ]
    },
    {
      "cell_type": "code",
      "metadata": {
        "colab": {
          "base_uri": "https://localhost:8080/"
        },
        "id": "y7X7H9dnOnes",
        "outputId": "32c4f13f-069b-4043-ca08-a70c7a694181"
      },
      "source": [
        "import numpy as np\n",
        "import pandas as pd\n",
        "wine= pd.read_csv('https://bit.ly/wine-date')\n",
        "wine_input = wine[['alcohol', 'sugar', 'pH' ]].to_numpy()\n",
        "wine_target = wine['class'].to_numpy()\n",
        "from sklearn.model_selection import train_test_split\n",
        "train_input,test_input,train_target,test_target = train_test_split(wine_input,wine_target,random_state=42,test_size = 0.2)\n",
        "from sklearn.model_selection import cross_validate\n",
        "from sklearn.ensemble import GradientBoostingClassifier\n",
        "gb = GradientBoostingClassifier(random_state=42)\n",
        "scores = cross_validate(gb, train_input, train_target, return_train_score=True, n_jobs=-1)\n",
        "print(np.mean(scores['train_score']),np.mean(scores['test_score']))\n",
        "gb = GradientBoostingClassifier(random_state=42,n_estimators=500, learning_rate=0.2)\n",
        "scores = cross_validate(gb, train_input, train_target, return_train_score=True, n_jobs=-1)\n",
        "print(np.mean(scores['train_score']),np.mean(scores['test_score']))\n",
        "gb.fit(train_input, train_target)\n",
        "print(gb.feature_importances_)"
      ],
      "execution_count": null,
      "outputs": [
        {
          "output_type": "stream",
          "text": [
            "0.8881086892152563 0.8720430147331015\n",
            "0.9464595437171814 0.8780082549788999\n",
            "[0.15872278 0.68010884 0.16116839]\n"
          ],
          "name": "stdout"
        }
      ]
    },
    {
      "cell_type": "code",
      "metadata": {
        "colab": {
          "base_uri": "https://localhost:8080/"
        },
        "id": "ACH-mP3JSlz0",
        "outputId": "a4887aa8-31c5-4d4c-f5c3-f141f5b1dd27"
      },
      "source": [
        "import numpy as np\n",
        "import pandas as pd\n",
        "wine= pd.read_csv('https://bit.ly/wine-date')\n",
        "wine_input = wine[['alcohol', 'sugar', 'pH' ]].to_numpy()\n",
        "wine_target = wine['class'].to_numpy()\n",
        "from sklearn.model_selection import train_test_split\n",
        "train_input,test_input,train_target,test_target = train_test_split(wine_input,wine_target,random_state=42,test_size = 0.2)\n",
        "from sklearn.model_selection import cross_validate\n",
        "from sklearn.experimental import enable_hist_gradient_boosting\n",
        "from sklearn.ensemble import HistGradientBoostingClassifier\n",
        "hgb = HistGradientBoostingClassifier(random_state=42)\n",
        "scores = cross_validate(hgb, train_input, train_target, return_train_score=True)\n",
        "print(np.mean(scores['train_score']),np.mean(scores['test_score']))\n",
        "hgb.fit(train_input,train_target)\n",
        "print(hgb.score(test_input, test_target))\n",
        "\n",
        "from xgboost import XGBClassifier\n",
        "xgb = XGBClassifier(tree_method='hist', random_state=42)\n",
        "scores = cross_validate(xgb, train_input, train_target, return_train_score=True)\n",
        "print(np.mean(scores['train_score']),np.mean(scores['test_score']))\n",
        "\n",
        "from lightgbm import LGBMClassifier\n",
        "lgb = LGBMClassifier(random_state=42)\n",
        "scores = cross_validate(lgb,train_input,train_target,return_train_score=True, n_jobs=-1)\n",
        "print(np.mean(scores['train_score']),np.mean(scores['test_score']))\n",
        "\n"
      ],
      "execution_count": null,
      "outputs": [
        {
          "output_type": "stream",
          "text": [
            "0.9321723946453317 0.8801241948619236\n",
            "0.8723076923076923\n",
            "0.8824322471423747 0.8726214185237284\n",
            "0.9338079582727165 0.8789710890649293\n"
          ],
          "name": "stdout"
        }
      ]
    }
  ]
}