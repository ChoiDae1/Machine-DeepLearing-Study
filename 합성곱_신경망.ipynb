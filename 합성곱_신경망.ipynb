{
  "nbformat": 4,
  "nbformat_minor": 0,
  "metadata": {
    "accelerator": "GPU",
    "colab": {
      "name": "합성곱 신경망",
      "provenance": [],
      "authorship_tag": "ABX9TyPsEFNsIUiFUM7ffxyuB2wb",
      "include_colab_link": true
    },
    "kernelspec": {
      "display_name": "Python 3",
      "name": "python3"
    },
    "language_info": {
      "name": "python"
    }
  },
  "cells": [
    {
      "cell_type": "markdown",
      "metadata": {
        "id": "view-in-github",
        "colab_type": "text"
      },
      "source": [
        "<a href=\"https://colab.research.google.com/github/ChoiDae1/Machine-DeepLearing_Study/blob/main/%ED%95%A9%EC%84%B1%EA%B3%B1_%EC%8B%A0%EA%B2%BD%EB%A7%9D.ipynb\" target=\"_parent\"><img src=\"https://colab.research.google.com/assets/colab-badge.svg\" alt=\"Open In Colab\"/></a>"
      ]
    },
    {
      "cell_type": "code",
      "metadata": {
        "colab": {
          "base_uri": "https://localhost:8080/",
          "height": 1000
        },
        "id": "YAo2vp341kZH",
        "outputId": "715eb3fd-8aa8-4976-885c-96ff3b16e2d9"
      },
      "source": [
        "from tensorflow import keras\n",
        "from sklearn.model_selection import train_test_split\n",
        "(train_input, train_target),(test_input, test_target) = keras.datasets.fashion_mnist.load_data()\n",
        "train_scaled = train_input.reshape(-1, 28,28,1)/255.0\n",
        "train_scaled, val_scaled, train_target, val_target = train_test_split(train_scaled, train_target, test_size=0.2, random_state=42)\n",
        "model = keras.Sequential()\n",
        "model.add(keras.layers.Conv2D(32, kernel_size=3, activation='relu', padding='same', input_shape=(28,28,1)))\n",
        "model.add(keras.layers.MaxPooling2D(2))\n",
        "model.add(keras.layers.Conv2D(64, kernel_size=3, activation='relu', padding='same', input_shape=(28,28,1)))\n",
        "model.add(keras.layers.MaxPooling2D(2))\n",
        "model.add(keras.layers.Flatten())\n",
        "model.add(keras.layers.Dense(100, activation='relu'))\n",
        "model.add(keras.layers.Dropout(0.4))\n",
        "model.add(keras.layers.Dense(10, activation='softmax'))\n",
        "model.summary()\n",
        "model.compile(optimizer='adam', loss='sparse_categorical_crossentropy', metrics='accuracy')\n",
        "checkpoint_cb = keras.callbacks.ModelCheckpoint('best-cnn-model.h5')\n",
        "early_stopping_cb = keras.callbacks.EarlyStopping(patience=2, restore_best_weights=True)\n",
        "history = model.fit(train_scaled, train_target, epochs=20, validation_data=(val_scaled,val_target), callbacks=[checkpoint_cb, early_stopping_cb])\n",
        "import matplotlib.pyplot as plt\n",
        "plt.plot(history.history['loss'])\n",
        "plt.plot(history.history['val_loss'])\n",
        "plt.xlabel('epoch')\n",
        "plt.ylabel('loss')\n",
        "plt.legend(['train','val'])\n",
        "plt.show()\n",
        "model.evaluate(val_scaled,val_target)\n",
        "plt.imshow(val_scaled[0].reshape(28,28),cmap='gray_r')\n",
        "plt.show()\n",
        "preds = model.predict(val_scaled[0:1])\n",
        "print(preds)\n",
        "plt.bar(range(1,11), preds[0])\n",
        "plt.xlabel('class')\n",
        "plt.ylabel('prob.')\n",
        "plt.show()\n",
        "classes = ['티셔츠','바지','스웨터','드레스','코트','샌달','셔츠','스니커즈','가방','앵클 부츠']\n",
        "import numpy as np\n",
        "print(classes[np.argmax(preds)])\n",
        "test_scaled =  test_input.reshape(-1,28,28,1)/255.0\n",
        "model.evaluate(test_scaled, test_target)"
      ],
      "execution_count": null,
      "outputs": [
        {
          "output_type": "stream",
          "text": [
            "Downloading data from https://storage.googleapis.com/tensorflow/tf-keras-datasets/train-labels-idx1-ubyte.gz\n",
            "32768/29515 [=================================] - 0s 0us/step\n",
            "Downloading data from https://storage.googleapis.com/tensorflow/tf-keras-datasets/train-images-idx3-ubyte.gz\n",
            "26427392/26421880 [==============================] - 0s 0us/step\n",
            "Downloading data from https://storage.googleapis.com/tensorflow/tf-keras-datasets/t10k-labels-idx1-ubyte.gz\n",
            "8192/5148 [===============================================] - 0s 0us/step\n",
            "Downloading data from https://storage.googleapis.com/tensorflow/tf-keras-datasets/t10k-images-idx3-ubyte.gz\n",
            "4423680/4422102 [==============================] - 0s 0us/step\n",
            "Model: \"sequential\"\n",
            "_________________________________________________________________\n",
            "Layer (type)                 Output Shape              Param #   \n",
            "=================================================================\n",
            "conv2d (Conv2D)              (None, 28, 28, 32)        320       \n",
            "_________________________________________________________________\n",
            "max_pooling2d (MaxPooling2D) (None, 14, 14, 32)        0         \n",
            "_________________________________________________________________\n",
            "conv2d_1 (Conv2D)            (None, 14, 14, 64)        18496     \n",
            "_________________________________________________________________\n",
            "max_pooling2d_1 (MaxPooling2 (None, 7, 7, 64)          0         \n",
            "_________________________________________________________________\n",
            "flatten (Flatten)            (None, 3136)              0         \n",
            "_________________________________________________________________\n",
            "dense (Dense)                (None, 100)               313700    \n",
            "_________________________________________________________________\n",
            "dropout (Dropout)            (None, 100)               0         \n",
            "_________________________________________________________________\n",
            "dense_1 (Dense)              (None, 10)                1010      \n",
            "=================================================================\n",
            "Total params: 333,526\n",
            "Trainable params: 333,526\n",
            "Non-trainable params: 0\n",
            "_________________________________________________________________\n",
            "Epoch 1/20\n",
            "1500/1500 [==============================] - 37s 3ms/step - loss: 0.7272 - accuracy: 0.7376 - val_loss: 0.3327 - val_accuracy: 0.8768\n",
            "Epoch 2/20\n",
            "1500/1500 [==============================] - 4s 3ms/step - loss: 0.3596 - accuracy: 0.8709 - val_loss: 0.2746 - val_accuracy: 0.8992\n",
            "Epoch 3/20\n",
            "1500/1500 [==============================] - 4s 3ms/step - loss: 0.3063 - accuracy: 0.8915 - val_loss: 0.2525 - val_accuracy: 0.9066\n",
            "Epoch 4/20\n",
            "1500/1500 [==============================] - 4s 3ms/step - loss: 0.2714 - accuracy: 0.9042 - val_loss: 0.2340 - val_accuracy: 0.9140\n",
            "Epoch 5/20\n",
            "1500/1500 [==============================] - 4s 3ms/step - loss: 0.2475 - accuracy: 0.9083 - val_loss: 0.2369 - val_accuracy: 0.9121\n",
            "Epoch 6/20\n",
            "1500/1500 [==============================] - 4s 3ms/step - loss: 0.2186 - accuracy: 0.9193 - val_loss: 0.2230 - val_accuracy: 0.9161\n",
            "Epoch 7/20\n",
            "1500/1500 [==============================] - 4s 3ms/step - loss: 0.2070 - accuracy: 0.9239 - val_loss: 0.2329 - val_accuracy: 0.9135\n",
            "Epoch 8/20\n",
            "1500/1500 [==============================] - 4s 3ms/step - loss: 0.1868 - accuracy: 0.9319 - val_loss: 0.2199 - val_accuracy: 0.9191\n",
            "Epoch 9/20\n",
            "1500/1500 [==============================] - 4s 3ms/step - loss: 0.1680 - accuracy: 0.9371 - val_loss: 0.2293 - val_accuracy: 0.9157\n",
            "Epoch 10/20\n",
            "1500/1500 [==============================] - 5s 3ms/step - loss: 0.1663 - accuracy: 0.9396 - val_loss: 0.2253 - val_accuracy: 0.9226\n"
          ],
          "name": "stdout"
        },
        {
          "output_type": "display_data",
          "data": {
            "image/png": "[encoded data removed]",
            "text/plain": [
              "<Figure size 432x288 with 1 Axes>"
            ]
          },
          "metadata": {
            "tags": [],
            "needs_background": "light"
          }
        },
        {
          "output_type": "stream",
          "text": [
            "375/375 [==============================] - 1s 2ms/step - loss: 0.2199 - accuracy: 0.9191\n"
          ],
          "name": "stdout"
        },
        {
          "output_type": "display_data",
          "data": {
            "image/png": "[encoded data removed]",
            "text/plain": [
              "<Figure size 432x288 with 1 Axes>"
            ]
          },
          "metadata": {
            "tags": [],
            "needs_background": "light"
          }
        },
        {
          "output_type": "stream",
          "text": [
            "[[2.1256705e-19 3.8840648e-26 1.9626670e-24 1.8805520e-22 2.0130768e-24\n",
            "  3.4558758e-19 2.2074744e-19 5.3818915e-24 1.0000000e+00 1.6406284e-22]]\n"
          ],
          "name": "stdout"
        },
        {
          "output_type": "display_data",
          "data": {
            "image/png": "[encoded data removed]",
            "text/plain": [
              "<Figure size 432x288 with 1 Axes>"
            ]
          },
          "metadata": {
            "tags": [],
            "needs_background": "light"
          }
        },
        {
          "output_type": "stream",
          "text": [
            "가방\n",
            "313/313 [==============================] - 1s 3ms/step - loss: 0.2344 - accuracy: 0.9201\n"
          ],
          "name": "stdout"
        },
        {
          "output_type": "execute_result",
          "data": {
            "text/plain": [
              "[0.2344290018081665, 0.9200999736785889]"
            ]
          },
          "metadata": {
            "tags": []
          },
          "execution_count": 1
        }
      ]
    }
  ]
}